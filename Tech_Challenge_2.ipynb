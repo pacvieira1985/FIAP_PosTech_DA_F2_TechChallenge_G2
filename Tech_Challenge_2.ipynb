{
  "cells": [
    {
      "cell_type": "markdown",
      "metadata": {
        "id": "view-in-github",
        "colab_type": "text"
      },
      "source": [
        "<a href=\"https://colab.research.google.com/github/paulocdvieira/FIAP_PosTech_DA_F2_TechChallenge_G2/blob/main/Tech_Challenge_2.ipynb\" target=\"_parent\"><img src=\"https://colab.research.google.com/assets/colab-badge.svg\" alt=\"Open In Colab\"/></a>"
      ]
    },
    {
      "cell_type": "markdown",
      "metadata": {
        "id": "I-DL0iWUYfhN"
      },
      "source": [
        "# Resumo do Tech Challenge 2\n",
        "**Objetivo** - Desenvolver um modelo de machine learning para prever a tendência diária (alta ou baixa) do índice IBOVESPA com pelo menos 75% de acurácia."
      ]
    },
    {
      "cell_type": "markdown",
      "metadata": {
        "id": "curqCcU7YynA"
      },
      "source": [
        "## Estrutura Geral\n",
        "* **Duração** - 23 dias de desenvolvimento + 7 dias de revisão\n",
        "* **Período de Desenvolvimento** - 29/09 a 21/10 (3 semanas)\n",
        "* **Semana de Revisão** - 22/10 a 28/10 (1 semana)\n",
        "* **Data de entrega** - 28/10\n",
        "* **Entregável final** - Código de projeto (ou repositório GitHub), apresentação do storytelling e vídeo de apresentação gerencial."
      ]
    },
    {
      "cell_type": "markdown",
      "metadata": {
        "id": "Bi0AaFlHJpu6"
      },
      "source": [
        "**Base de dados:** https://drive.google.com/file/d/1r20DRqCqxW-eTyRqHOdiz3_S4dGiklbu/view?usp=sharing\n",
        "\n",
        "**Período:** 01/01/2022 - 30/09/2025"
      ]
    },
    {
      "cell_type": "markdown",
      "metadata": {
        "id": "jua7Zlc7afYM"
      },
      "source": [
        "# Cronograma por Semana"
      ]
    },
    {
      "cell_type": "markdown",
      "metadata": {
        "id": "S5DebM-jakeC"
      },
      "source": [
        "## Semana 1 (29/09 - 05/10) - Fundamentos e Exploração"
      ]
    },
    {
      "cell_type": "markdown",
      "metadata": {
        "id": "FhaDpjE2ar7L"
      },
      "source": [
        "### **Pedro:** Aquisição e Preparação dos Dados\n",
        "**Objetivos** - Ter um dataset limpo, estruturado e com o índice temporal correto, pronto para análise e engenharia de atributos"
      ]
    },
    {
      "cell_type": "markdown",
      "metadata": {
        "id": "6WabJUtoaxqI"
      },
      "source": [
        "#### **Tarefa 1:** Baixar os dados históriicos do IBOVESPA desde 2022"
      ]
    },
    {
      "cell_type": "code",
      "execution_count": 1,
      "metadata": {
        "id": "ip2puZcNJYU1"
      },
      "outputs": [],
      "source": [
        "import pandas as pd\n",
        "import numpy as np"
      ]
    },
    {
      "cell_type": "code",
      "execution_count": 2,
      "metadata": {
        "id": "dP-P1JsTKUDo"
      },
      "outputs": [],
      "source": [
        "file_id = \"1r20DRqCqxW-eTyRqHOdiz3_S4dGiklbu\"\n",
        "url = f\"https://drive.google.com/uc?export=download&id={file_id}\"\n",
        "\n",
        "df = pd.read_csv(url, sep=',')"
      ]
    },
    {
      "cell_type": "markdown",
      "metadata": {
        "id": "RdjjBYJ2a30Z"
      },
      "source": [
        "#### **Tarefa 2:** Carregar os dados e realizar a inspeção inicial\n",
        "*   .info()\n",
        "*   .head()\n",
        "*   .shape()"
      ]
    },
    {
      "cell_type": "code",
      "execution_count": 3,
      "metadata": {
        "colab": {
          "base_uri": "https://localhost:8080/",
          "height": 363
        },
        "id": "lfcVc-__Kirx",
        "outputId": "edc7dc11-e4f0-431e-fcf8-c1df99b1874c"
      },
      "outputs": [
        {
          "output_type": "execute_result",
          "data": {
            "text/plain": [
              "         Data   Último  Abertura   Máxima   Mínima    Vol.    Var%\n",
              "0  30.09.2025  146.237   146.337  147.578  145.774   9,48B  -0,07%\n",
              "1  29.09.2025  146.337   145.447  147.558  145.447   7,07B   0,61%\n",
              "2  26.09.2025  145.447   145.326  146.235  145.146   6,34B   0,10%\n",
              "3  25.09.2025  145.306   146.492  146.519  145.187   8,29B  -0,81%\n",
              "4  24.09.2025  146.492   146.426  146.585  146.067   7,29B   0,05%\n",
              "5  23.09.2025  146.425   145.112  147.178  145.107   8,14B   0,91%\n",
              "6  22.09.2025  145.109   145.864  145.864  144.117   9,43B  -0,52%\n",
              "7  19.09.2025  145.865   145.499  146.399  145.496  10,28B   0,25%\n",
              "8  18.09.2025  145.499   145.594  145.726  144.993   8,37B  -0,06%\n",
              "9  17.09.2025  145.594   144.059  146.331  143.910   9,60B   1,06%"
            ],
            "text/html": [
              "\n",
              "  <div id=\"df-e91a01db-749b-43b2-a867-4fbc63a8e576\" class=\"colab-df-container\">\n",
              "    <div>\n",
              "<style scoped>\n",
              "    .dataframe tbody tr th:only-of-type {\n",
              "        vertical-align: middle;\n",
              "    }\n",
              "\n",
              "    .dataframe tbody tr th {\n",
              "        vertical-align: top;\n",
              "    }\n",
              "\n",
              "    .dataframe thead th {\n",
              "        text-align: right;\n",
              "    }\n",
              "</style>\n",
              "<table border=\"1\" class=\"dataframe\">\n",
              "  <thead>\n",
              "    <tr style=\"text-align: right;\">\n",
              "      <th></th>\n",
              "      <th>Data</th>\n",
              "      <th>Último</th>\n",
              "      <th>Abertura</th>\n",
              "      <th>Máxima</th>\n",
              "      <th>Mínima</th>\n",
              "      <th>Vol.</th>\n",
              "      <th>Var%</th>\n",
              "    </tr>\n",
              "  </thead>\n",
              "  <tbody>\n",
              "    <tr>\n",
              "      <th>0</th>\n",
              "      <td>30.09.2025</td>\n",
              "      <td>146.237</td>\n",
              "      <td>146.337</td>\n",
              "      <td>147.578</td>\n",
              "      <td>145.774</td>\n",
              "      <td>9,48B</td>\n",
              "      <td>-0,07%</td>\n",
              "    </tr>\n",
              "    <tr>\n",
              "      <th>1</th>\n",
              "      <td>29.09.2025</td>\n",
              "      <td>146.337</td>\n",
              "      <td>145.447</td>\n",
              "      <td>147.558</td>\n",
              "      <td>145.447</td>\n",
              "      <td>7,07B</td>\n",
              "      <td>0,61%</td>\n",
              "    </tr>\n",
              "    <tr>\n",
              "      <th>2</th>\n",
              "      <td>26.09.2025</td>\n",
              "      <td>145.447</td>\n",
              "      <td>145.326</td>\n",
              "      <td>146.235</td>\n",
              "      <td>145.146</td>\n",
              "      <td>6,34B</td>\n",
              "      <td>0,10%</td>\n",
              "    </tr>\n",
              "    <tr>\n",
              "      <th>3</th>\n",
              "      <td>25.09.2025</td>\n",
              "      <td>145.306</td>\n",
              "      <td>146.492</td>\n",
              "      <td>146.519</td>\n",
              "      <td>145.187</td>\n",
              "      <td>8,29B</td>\n",
              "      <td>-0,81%</td>\n",
              "    </tr>\n",
              "    <tr>\n",
              "      <th>4</th>\n",
              "      <td>24.09.2025</td>\n",
              "      <td>146.492</td>\n",
              "      <td>146.426</td>\n",
              "      <td>146.585</td>\n",
              "      <td>146.067</td>\n",
              "      <td>7,29B</td>\n",
              "      <td>0,05%</td>\n",
              "    </tr>\n",
              "    <tr>\n",
              "      <th>5</th>\n",
              "      <td>23.09.2025</td>\n",
              "      <td>146.425</td>\n",
              "      <td>145.112</td>\n",
              "      <td>147.178</td>\n",
              "      <td>145.107</td>\n",
              "      <td>8,14B</td>\n",
              "      <td>0,91%</td>\n",
              "    </tr>\n",
              "    <tr>\n",
              "      <th>6</th>\n",
              "      <td>22.09.2025</td>\n",
              "      <td>145.109</td>\n",
              "      <td>145.864</td>\n",
              "      <td>145.864</td>\n",
              "      <td>144.117</td>\n",
              "      <td>9,43B</td>\n",
              "      <td>-0,52%</td>\n",
              "    </tr>\n",
              "    <tr>\n",
              "      <th>7</th>\n",
              "      <td>19.09.2025</td>\n",
              "      <td>145.865</td>\n",
              "      <td>145.499</td>\n",
              "      <td>146.399</td>\n",
              "      <td>145.496</td>\n",
              "      <td>10,28B</td>\n",
              "      <td>0,25%</td>\n",
              "    </tr>\n",
              "    <tr>\n",
              "      <th>8</th>\n",
              "      <td>18.09.2025</td>\n",
              "      <td>145.499</td>\n",
              "      <td>145.594</td>\n",
              "      <td>145.726</td>\n",
              "      <td>144.993</td>\n",
              "      <td>8,37B</td>\n",
              "      <td>-0,06%</td>\n",
              "    </tr>\n",
              "    <tr>\n",
              "      <th>9</th>\n",
              "      <td>17.09.2025</td>\n",
              "      <td>145.594</td>\n",
              "      <td>144.059</td>\n",
              "      <td>146.331</td>\n",
              "      <td>143.910</td>\n",
              "      <td>9,60B</td>\n",
              "      <td>1,06%</td>\n",
              "    </tr>\n",
              "  </tbody>\n",
              "</table>\n",
              "</div>\n",
              "    <div class=\"colab-df-buttons\">\n",
              "\n",
              "  <div class=\"colab-df-container\">\n",
              "    <button class=\"colab-df-convert\" onclick=\"convertToInteractive('df-e91a01db-749b-43b2-a867-4fbc63a8e576')\"\n",
              "            title=\"Convert this dataframe to an interactive table.\"\n",
              "            style=\"display:none;\">\n",
              "\n",
              "  <svg xmlns=\"http://www.w3.org/2000/svg\" height=\"24px\" viewBox=\"0 -960 960 960\">\n",
              "    <path d=\"M120-120v-720h720v720H120Zm60-500h600v-160H180v160Zm220 220h160v-160H400v160Zm0 220h160v-160H400v160ZM180-400h160v-160H180v160Zm440 0h160v-160H620v160ZM180-180h160v-160H180v160Zm440 0h160v-160H620v160Z\"/>\n",
              "  </svg>\n",
              "    </button>\n",
              "\n",
              "  <style>\n",
              "    .colab-df-container {\n",
              "      display:flex;\n",
              "      gap: 12px;\n",
              "    }\n",
              "\n",
              "    .colab-df-convert {\n",
              "      background-color: #E8F0FE;\n",
              "      border: none;\n",
              "      border-radius: 50%;\n",
              "      cursor: pointer;\n",
              "      display: none;\n",
              "      fill: #1967D2;\n",
              "      height: 32px;\n",
              "      padding: 0 0 0 0;\n",
              "      width: 32px;\n",
              "    }\n",
              "\n",
              "    .colab-df-convert:hover {\n",
              "      background-color: #E2EBFA;\n",
              "      box-shadow: 0px 1px 2px rgba(60, 64, 67, 0.3), 0px 1px 3px 1px rgba(60, 64, 67, 0.15);\n",
              "      fill: #174EA6;\n",
              "    }\n",
              "\n",
              "    .colab-df-buttons div {\n",
              "      margin-bottom: 4px;\n",
              "    }\n",
              "\n",
              "    [theme=dark] .colab-df-convert {\n",
              "      background-color: #3B4455;\n",
              "      fill: #D2E3FC;\n",
              "    }\n",
              "\n",
              "    [theme=dark] .colab-df-convert:hover {\n",
              "      background-color: #434B5C;\n",
              "      box-shadow: 0px 1px 3px 1px rgba(0, 0, 0, 0.15);\n",
              "      filter: drop-shadow(0px 1px 2px rgba(0, 0, 0, 0.3));\n",
              "      fill: #FFFFFF;\n",
              "    }\n",
              "  </style>\n",
              "\n",
              "    <script>\n",
              "      const buttonEl =\n",
              "        document.querySelector('#df-e91a01db-749b-43b2-a867-4fbc63a8e576 button.colab-df-convert');\n",
              "      buttonEl.style.display =\n",
              "        google.colab.kernel.accessAllowed ? 'block' : 'none';\n",
              "\n",
              "      async function convertToInteractive(key) {\n",
              "        const element = document.querySelector('#df-e91a01db-749b-43b2-a867-4fbc63a8e576');\n",
              "        const dataTable =\n",
              "          await google.colab.kernel.invokeFunction('convertToInteractive',\n",
              "                                                    [key], {});\n",
              "        if (!dataTable) return;\n",
              "\n",
              "        const docLinkHtml = 'Like what you see? Visit the ' +\n",
              "          '<a target=\"_blank\" href=https://colab.research.google.com/notebooks/data_table.ipynb>data table notebook</a>'\n",
              "          + ' to learn more about interactive tables.';\n",
              "        element.innerHTML = '';\n",
              "        dataTable['output_type'] = 'display_data';\n",
              "        await google.colab.output.renderOutput(dataTable, element);\n",
              "        const docLink = document.createElement('div');\n",
              "        docLink.innerHTML = docLinkHtml;\n",
              "        element.appendChild(docLink);\n",
              "      }\n",
              "    </script>\n",
              "  </div>\n",
              "\n",
              "\n",
              "    <div id=\"df-e0275fb9-20ae-4bb0-8535-2a9bcc16751e\">\n",
              "      <button class=\"colab-df-quickchart\" onclick=\"quickchart('df-e0275fb9-20ae-4bb0-8535-2a9bcc16751e')\"\n",
              "                title=\"Suggest charts\"\n",
              "                style=\"display:none;\">\n",
              "\n",
              "<svg xmlns=\"http://www.w3.org/2000/svg\" height=\"24px\"viewBox=\"0 0 24 24\"\n",
              "     width=\"24px\">\n",
              "    <g>\n",
              "        <path d=\"M19 3H5c-1.1 0-2 .9-2 2v14c0 1.1.9 2 2 2h14c1.1 0 2-.9 2-2V5c0-1.1-.9-2-2-2zM9 17H7v-7h2v7zm4 0h-2V7h2v10zm4 0h-2v-4h2v4z\"/>\n",
              "    </g>\n",
              "</svg>\n",
              "      </button>\n",
              "\n",
              "<style>\n",
              "  .colab-df-quickchart {\n",
              "      --bg-color: #E8F0FE;\n",
              "      --fill-color: #1967D2;\n",
              "      --hover-bg-color: #E2EBFA;\n",
              "      --hover-fill-color: #174EA6;\n",
              "      --disabled-fill-color: #AAA;\n",
              "      --disabled-bg-color: #DDD;\n",
              "  }\n",
              "\n",
              "  [theme=dark] .colab-df-quickchart {\n",
              "      --bg-color: #3B4455;\n",
              "      --fill-color: #D2E3FC;\n",
              "      --hover-bg-color: #434B5C;\n",
              "      --hover-fill-color: #FFFFFF;\n",
              "      --disabled-bg-color: #3B4455;\n",
              "      --disabled-fill-color: #666;\n",
              "  }\n",
              "\n",
              "  .colab-df-quickchart {\n",
              "    background-color: var(--bg-color);\n",
              "    border: none;\n",
              "    border-radius: 50%;\n",
              "    cursor: pointer;\n",
              "    display: none;\n",
              "    fill: var(--fill-color);\n",
              "    height: 32px;\n",
              "    padding: 0;\n",
              "    width: 32px;\n",
              "  }\n",
              "\n",
              "  .colab-df-quickchart:hover {\n",
              "    background-color: var(--hover-bg-color);\n",
              "    box-shadow: 0 1px 2px rgba(60, 64, 67, 0.3), 0 1px 3px 1px rgba(60, 64, 67, 0.15);\n",
              "    fill: var(--button-hover-fill-color);\n",
              "  }\n",
              "\n",
              "  .colab-df-quickchart-complete:disabled,\n",
              "  .colab-df-quickchart-complete:disabled:hover {\n",
              "    background-color: var(--disabled-bg-color);\n",
              "    fill: var(--disabled-fill-color);\n",
              "    box-shadow: none;\n",
              "  }\n",
              "\n",
              "  .colab-df-spinner {\n",
              "    border: 2px solid var(--fill-color);\n",
              "    border-color: transparent;\n",
              "    border-bottom-color: var(--fill-color);\n",
              "    animation:\n",
              "      spin 1s steps(1) infinite;\n",
              "  }\n",
              "\n",
              "  @keyframes spin {\n",
              "    0% {\n",
              "      border-color: transparent;\n",
              "      border-bottom-color: var(--fill-color);\n",
              "      border-left-color: var(--fill-color);\n",
              "    }\n",
              "    20% {\n",
              "      border-color: transparent;\n",
              "      border-left-color: var(--fill-color);\n",
              "      border-top-color: var(--fill-color);\n",
              "    }\n",
              "    30% {\n",
              "      border-color: transparent;\n",
              "      border-left-color: var(--fill-color);\n",
              "      border-top-color: var(--fill-color);\n",
              "      border-right-color: var(--fill-color);\n",
              "    }\n",
              "    40% {\n",
              "      border-color: transparent;\n",
              "      border-right-color: var(--fill-color);\n",
              "      border-top-color: var(--fill-color);\n",
              "    }\n",
              "    60% {\n",
              "      border-color: transparent;\n",
              "      border-right-color: var(--fill-color);\n",
              "    }\n",
              "    80% {\n",
              "      border-color: transparent;\n",
              "      border-right-color: var(--fill-color);\n",
              "      border-bottom-color: var(--fill-color);\n",
              "    }\n",
              "    90% {\n",
              "      border-color: transparent;\n",
              "      border-bottom-color: var(--fill-color);\n",
              "    }\n",
              "  }\n",
              "</style>\n",
              "\n",
              "      <script>\n",
              "        async function quickchart(key) {\n",
              "          const quickchartButtonEl =\n",
              "            document.querySelector('#' + key + ' button');\n",
              "          quickchartButtonEl.disabled = true;  // To prevent multiple clicks.\n",
              "          quickchartButtonEl.classList.add('colab-df-spinner');\n",
              "          try {\n",
              "            const charts = await google.colab.kernel.invokeFunction(\n",
              "                'suggestCharts', [key], {});\n",
              "          } catch (error) {\n",
              "            console.error('Error during call to suggestCharts:', error);\n",
              "          }\n",
              "          quickchartButtonEl.classList.remove('colab-df-spinner');\n",
              "          quickchartButtonEl.classList.add('colab-df-quickchart-complete');\n",
              "        }\n",
              "        (() => {\n",
              "          let quickchartButtonEl =\n",
              "            document.querySelector('#df-e0275fb9-20ae-4bb0-8535-2a9bcc16751e button');\n",
              "          quickchartButtonEl.style.display =\n",
              "            google.colab.kernel.accessAllowed ? 'block' : 'none';\n",
              "        })();\n",
              "      </script>\n",
              "    </div>\n",
              "\n",
              "    </div>\n",
              "  </div>\n"
            ],
            "application/vnd.google.colaboratory.intrinsic+json": {
              "type": "dataframe",
              "variable_name": "df",
              "summary": "{\n  \"name\": \"df\",\n  \"rows\": 937,\n  \"fields\": [\n    {\n      \"column\": \"Data\",\n      \"properties\": {\n        \"dtype\": \"object\",\n        \"num_unique_values\": 937,\n        \"samples\": [\n          \"20.06.2024\",\n          \"24.06.2025\",\n          \"27.11.2024\"\n        ],\n        \"semantic_type\": \"\",\n        \"description\": \"\"\n      }\n    },\n    {\n      \"column\": \"\\u00daltimo\",\n      \"properties\": {\n        \"dtype\": \"number\",\n        \"std\": 11.364770071132332,\n        \"min\": 96.121,\n        \"max\": 146.492,\n        \"num_unique_values\": 926,\n        \"samples\": [\n          119.568,\n          103.22,\n          134.432\n        ],\n        \"semantic_type\": \"\",\n        \"description\": \"\"\n      }\n    },\n    {\n      \"column\": \"Abertura\",\n      \"properties\": {\n        \"dtype\": \"number\",\n        \"std\": 11.345197861808902,\n        \"min\": 96.119,\n        \"max\": 146.492,\n        \"num_unique_values\": 926,\n        \"samples\": [\n          121.644,\n          103.22,\n          137.321\n        ],\n        \"semantic_type\": \"\",\n        \"description\": \"\"\n      }\n    },\n    {\n      \"column\": \"M\\u00e1xima\",\n      \"properties\": {\n        \"dtype\": \"number\",\n        \"std\": 11.271592478464774,\n        \"min\": 96.971,\n        \"max\": 147.578,\n        \"num_unique_values\": 924,\n        \"samples\": [\n          119.663,\n          121.628,\n          137.321\n        ],\n        \"semantic_type\": \"\",\n        \"description\": \"\"\n      }\n    },\n    {\n      \"column\": \"M\\u00ednima\",\n      \"properties\": {\n        \"dtype\": \"number\",\n        \"std\": 11.460564874197132,\n        \"min\": 95.267,\n        \"max\": 146.067,\n        \"num_unique_values\": 927,\n        \"samples\": [\n          126.057,\n          131.203,\n          133.997\n        ],\n        \"semantic_type\": \"\",\n        \"description\": \"\"\n      }\n    },\n    {\n      \"column\": \"Vol.\",\n      \"properties\": {\n        \"dtype\": \"string\",\n        \"num_unique_values\": 700,\n        \"samples\": [\n          \"7,82B\",\n          \"13,26M\",\n          \"9,61M\"\n        ],\n        \"semantic_type\": \"\",\n        \"description\": \"\"\n      }\n    },\n    {\n      \"column\": \"Var%\",\n      \"properties\": {\n        \"dtype\": \"category\",\n        \"num_unique_values\": 386,\n        \"samples\": [\n          \"2,35%\",\n          \"1,16%\",\n          \"0,06%\"\n        ],\n        \"semantic_type\": \"\",\n        \"description\": \"\"\n      }\n    }\n  ]\n}"
            }
          },
          "metadata": {},
          "execution_count": 3
        }
      ],
      "source": [
        "df.head(10)"
      ]
    },
    {
      "cell_type": "code",
      "execution_count": 4,
      "metadata": {
        "colab": {
          "base_uri": "https://localhost:8080/"
        },
        "id": "sxzhm_b5LbY1",
        "outputId": "14256e7a-41d9-45dc-940a-696aec889c4f"
      },
      "outputs": [
        {
          "output_type": "execute_result",
          "data": {
            "text/plain": [
              "(937, 7)"
            ]
          },
          "metadata": {},
          "execution_count": 4
        }
      ],
      "source": [
        "df.shape"
      ]
    },
    {
      "cell_type": "code",
      "execution_count": 5,
      "metadata": {
        "colab": {
          "base_uri": "https://localhost:8080/"
        },
        "id": "CV2xmyiZLThL",
        "outputId": "292bc572-b993-4270-d31c-ff5278371a24"
      },
      "outputs": [
        {
          "output_type": "stream",
          "name": "stdout",
          "text": [
            "<class 'pandas.core.frame.DataFrame'>\n",
            "RangeIndex: 937 entries, 0 to 936\n",
            "Data columns (total 7 columns):\n",
            " #   Column    Non-Null Count  Dtype  \n",
            "---  ------    --------------  -----  \n",
            " 0   Data      937 non-null    object \n",
            " 1   Último    937 non-null    float64\n",
            " 2   Abertura  937 non-null    float64\n",
            " 3   Máxima    937 non-null    float64\n",
            " 4   Mínima    937 non-null    float64\n",
            " 5   Vol.      937 non-null    object \n",
            " 6   Var%      937 non-null    object \n",
            "dtypes: float64(4), object(3)\n",
            "memory usage: 51.4+ KB\n"
          ]
        }
      ],
      "source": [
        "df.info()"
      ]
    },
    {
      "cell_type": "code",
      "execution_count": 6,
      "metadata": {
        "colab": {
          "base_uri": "https://localhost:8080/",
          "height": 143
        },
        "id": "lzjMB1JjMb8j",
        "outputId": "b23879b2-aee2-4499-83e4-74ed530ca56d"
      },
      "outputs": [
        {
          "output_type": "execute_result",
          "data": {
            "text/plain": [
              "         Data   Último  Abertura   Máxima   Mínima   Vol.    Var%\n",
              "0  30.09.2025  146.237   146.337  147.578  145.774  9,48B  -0,07%\n",
              "1  29.09.2025  146.337   145.447  147.558  145.447  7,07B   0,61%\n",
              "2  26.09.2025  145.447   145.326  146.235  145.146  6,34B   0,10%"
            ],
            "text/html": [
              "\n",
              "  <div id=\"df-2e90fbe3-9557-4d76-b075-0f6dae3487c4\" class=\"colab-df-container\">\n",
              "    <div>\n",
              "<style scoped>\n",
              "    .dataframe tbody tr th:only-of-type {\n",
              "        vertical-align: middle;\n",
              "    }\n",
              "\n",
              "    .dataframe tbody tr th {\n",
              "        vertical-align: top;\n",
              "    }\n",
              "\n",
              "    .dataframe thead th {\n",
              "        text-align: right;\n",
              "    }\n",
              "</style>\n",
              "<table border=\"1\" class=\"dataframe\">\n",
              "  <thead>\n",
              "    <tr style=\"text-align: right;\">\n",
              "      <th></th>\n",
              "      <th>Data</th>\n",
              "      <th>Último</th>\n",
              "      <th>Abertura</th>\n",
              "      <th>Máxima</th>\n",
              "      <th>Mínima</th>\n",
              "      <th>Vol.</th>\n",
              "      <th>Var%</th>\n",
              "    </tr>\n",
              "  </thead>\n",
              "  <tbody>\n",
              "    <tr>\n",
              "      <th>0</th>\n",
              "      <td>30.09.2025</td>\n",
              "      <td>146.237</td>\n",
              "      <td>146.337</td>\n",
              "      <td>147.578</td>\n",
              "      <td>145.774</td>\n",
              "      <td>9,48B</td>\n",
              "      <td>-0,07%</td>\n",
              "    </tr>\n",
              "    <tr>\n",
              "      <th>1</th>\n",
              "      <td>29.09.2025</td>\n",
              "      <td>146.337</td>\n",
              "      <td>145.447</td>\n",
              "      <td>147.558</td>\n",
              "      <td>145.447</td>\n",
              "      <td>7,07B</td>\n",
              "      <td>0,61%</td>\n",
              "    </tr>\n",
              "    <tr>\n",
              "      <th>2</th>\n",
              "      <td>26.09.2025</td>\n",
              "      <td>145.447</td>\n",
              "      <td>145.326</td>\n",
              "      <td>146.235</td>\n",
              "      <td>145.146</td>\n",
              "      <td>6,34B</td>\n",
              "      <td>0,10%</td>\n",
              "    </tr>\n",
              "  </tbody>\n",
              "</table>\n",
              "</div>\n",
              "    <div class=\"colab-df-buttons\">\n",
              "\n",
              "  <div class=\"colab-df-container\">\n",
              "    <button class=\"colab-df-convert\" onclick=\"convertToInteractive('df-2e90fbe3-9557-4d76-b075-0f6dae3487c4')\"\n",
              "            title=\"Convert this dataframe to an interactive table.\"\n",
              "            style=\"display:none;\">\n",
              "\n",
              "  <svg xmlns=\"http://www.w3.org/2000/svg\" height=\"24px\" viewBox=\"0 -960 960 960\">\n",
              "    <path d=\"M120-120v-720h720v720H120Zm60-500h600v-160H180v160Zm220 220h160v-160H400v160Zm0 220h160v-160H400v160ZM180-400h160v-160H180v160Zm440 0h160v-160H620v160ZM180-180h160v-160H180v160Zm440 0h160v-160H620v160Z\"/>\n",
              "  </svg>\n",
              "    </button>\n",
              "\n",
              "  <style>\n",
              "    .colab-df-container {\n",
              "      display:flex;\n",
              "      gap: 12px;\n",
              "    }\n",
              "\n",
              "    .colab-df-convert {\n",
              "      background-color: #E8F0FE;\n",
              "      border: none;\n",
              "      border-radius: 50%;\n",
              "      cursor: pointer;\n",
              "      display: none;\n",
              "      fill: #1967D2;\n",
              "      height: 32px;\n",
              "      padding: 0 0 0 0;\n",
              "      width: 32px;\n",
              "    }\n",
              "\n",
              "    .colab-df-convert:hover {\n",
              "      background-color: #E2EBFA;\n",
              "      box-shadow: 0px 1px 2px rgba(60, 64, 67, 0.3), 0px 1px 3px 1px rgba(60, 64, 67, 0.15);\n",
              "      fill: #174EA6;\n",
              "    }\n",
              "\n",
              "    .colab-df-buttons div {\n",
              "      margin-bottom: 4px;\n",
              "    }\n",
              "\n",
              "    [theme=dark] .colab-df-convert {\n",
              "      background-color: #3B4455;\n",
              "      fill: #D2E3FC;\n",
              "    }\n",
              "\n",
              "    [theme=dark] .colab-df-convert:hover {\n",
              "      background-color: #434B5C;\n",
              "      box-shadow: 0px 1px 3px 1px rgba(0, 0, 0, 0.15);\n",
              "      filter: drop-shadow(0px 1px 2px rgba(0, 0, 0, 0.3));\n",
              "      fill: #FFFFFF;\n",
              "    }\n",
              "  </style>\n",
              "\n",
              "    <script>\n",
              "      const buttonEl =\n",
              "        document.querySelector('#df-2e90fbe3-9557-4d76-b075-0f6dae3487c4 button.colab-df-convert');\n",
              "      buttonEl.style.display =\n",
              "        google.colab.kernel.accessAllowed ? 'block' : 'none';\n",
              "\n",
              "      async function convertToInteractive(key) {\n",
              "        const element = document.querySelector('#df-2e90fbe3-9557-4d76-b075-0f6dae3487c4');\n",
              "        const dataTable =\n",
              "          await google.colab.kernel.invokeFunction('convertToInteractive',\n",
              "                                                    [key], {});\n",
              "        if (!dataTable) return;\n",
              "\n",
              "        const docLinkHtml = 'Like what you see? Visit the ' +\n",
              "          '<a target=\"_blank\" href=https://colab.research.google.com/notebooks/data_table.ipynb>data table notebook</a>'\n",
              "          + ' to learn more about interactive tables.';\n",
              "        element.innerHTML = '';\n",
              "        dataTable['output_type'] = 'display_data';\n",
              "        await google.colab.output.renderOutput(dataTable, element);\n",
              "        const docLink = document.createElement('div');\n",
              "        docLink.innerHTML = docLinkHtml;\n",
              "        element.appendChild(docLink);\n",
              "      }\n",
              "    </script>\n",
              "  </div>\n",
              "\n",
              "\n",
              "    <div id=\"df-15fc1536-fe7b-4ff3-a6d4-0af0edfde5e3\">\n",
              "      <button class=\"colab-df-quickchart\" onclick=\"quickchart('df-15fc1536-fe7b-4ff3-a6d4-0af0edfde5e3')\"\n",
              "                title=\"Suggest charts\"\n",
              "                style=\"display:none;\">\n",
              "\n",
              "<svg xmlns=\"http://www.w3.org/2000/svg\" height=\"24px\"viewBox=\"0 0 24 24\"\n",
              "     width=\"24px\">\n",
              "    <g>\n",
              "        <path d=\"M19 3H5c-1.1 0-2 .9-2 2v14c0 1.1.9 2 2 2h14c1.1 0 2-.9 2-2V5c0-1.1-.9-2-2-2zM9 17H7v-7h2v7zm4 0h-2V7h2v10zm4 0h-2v-4h2v4z\"/>\n",
              "    </g>\n",
              "</svg>\n",
              "      </button>\n",
              "\n",
              "<style>\n",
              "  .colab-df-quickchart {\n",
              "      --bg-color: #E8F0FE;\n",
              "      --fill-color: #1967D2;\n",
              "      --hover-bg-color: #E2EBFA;\n",
              "      --hover-fill-color: #174EA6;\n",
              "      --disabled-fill-color: #AAA;\n",
              "      --disabled-bg-color: #DDD;\n",
              "  }\n",
              "\n",
              "  [theme=dark] .colab-df-quickchart {\n",
              "      --bg-color: #3B4455;\n",
              "      --fill-color: #D2E3FC;\n",
              "      --hover-bg-color: #434B5C;\n",
              "      --hover-fill-color: #FFFFFF;\n",
              "      --disabled-bg-color: #3B4455;\n",
              "      --disabled-fill-color: #666;\n",
              "  }\n",
              "\n",
              "  .colab-df-quickchart {\n",
              "    background-color: var(--bg-color);\n",
              "    border: none;\n",
              "    border-radius: 50%;\n",
              "    cursor: pointer;\n",
              "    display: none;\n",
              "    fill: var(--fill-color);\n",
              "    height: 32px;\n",
              "    padding: 0;\n",
              "    width: 32px;\n",
              "  }\n",
              "\n",
              "  .colab-df-quickchart:hover {\n",
              "    background-color: var(--hover-bg-color);\n",
              "    box-shadow: 0 1px 2px rgba(60, 64, 67, 0.3), 0 1px 3px 1px rgba(60, 64, 67, 0.15);\n",
              "    fill: var(--button-hover-fill-color);\n",
              "  }\n",
              "\n",
              "  .colab-df-quickchart-complete:disabled,\n",
              "  .colab-df-quickchart-complete:disabled:hover {\n",
              "    background-color: var(--disabled-bg-color);\n",
              "    fill: var(--disabled-fill-color);\n",
              "    box-shadow: none;\n",
              "  }\n",
              "\n",
              "  .colab-df-spinner {\n",
              "    border: 2px solid var(--fill-color);\n",
              "    border-color: transparent;\n",
              "    border-bottom-color: var(--fill-color);\n",
              "    animation:\n",
              "      spin 1s steps(1) infinite;\n",
              "  }\n",
              "\n",
              "  @keyframes spin {\n",
              "    0% {\n",
              "      border-color: transparent;\n",
              "      border-bottom-color: var(--fill-color);\n",
              "      border-left-color: var(--fill-color);\n",
              "    }\n",
              "    20% {\n",
              "      border-color: transparent;\n",
              "      border-left-color: var(--fill-color);\n",
              "      border-top-color: var(--fill-color);\n",
              "    }\n",
              "    30% {\n",
              "      border-color: transparent;\n",
              "      border-left-color: var(--fill-color);\n",
              "      border-top-color: var(--fill-color);\n",
              "      border-right-color: var(--fill-color);\n",
              "    }\n",
              "    40% {\n",
              "      border-color: transparent;\n",
              "      border-right-color: var(--fill-color);\n",
              "      border-top-color: var(--fill-color);\n",
              "    }\n",
              "    60% {\n",
              "      border-color: transparent;\n",
              "      border-right-color: var(--fill-color);\n",
              "    }\n",
              "    80% {\n",
              "      border-color: transparent;\n",
              "      border-right-color: var(--fill-color);\n",
              "      border-bottom-color: var(--fill-color);\n",
              "    }\n",
              "    90% {\n",
              "      border-color: transparent;\n",
              "      border-bottom-color: var(--fill-color);\n",
              "    }\n",
              "  }\n",
              "</style>\n",
              "\n",
              "      <script>\n",
              "        async function quickchart(key) {\n",
              "          const quickchartButtonEl =\n",
              "            document.querySelector('#' + key + ' button');\n",
              "          quickchartButtonEl.disabled = true;  // To prevent multiple clicks.\n",
              "          quickchartButtonEl.classList.add('colab-df-spinner');\n",
              "          try {\n",
              "            const charts = await google.colab.kernel.invokeFunction(\n",
              "                'suggestCharts', [key], {});\n",
              "          } catch (error) {\n",
              "            console.error('Error during call to suggestCharts:', error);\n",
              "          }\n",
              "          quickchartButtonEl.classList.remove('colab-df-spinner');\n",
              "          quickchartButtonEl.classList.add('colab-df-quickchart-complete');\n",
              "        }\n",
              "        (() => {\n",
              "          let quickchartButtonEl =\n",
              "            document.querySelector('#df-15fc1536-fe7b-4ff3-a6d4-0af0edfde5e3 button');\n",
              "          quickchartButtonEl.style.display =\n",
              "            google.colab.kernel.accessAllowed ? 'block' : 'none';\n",
              "        })();\n",
              "      </script>\n",
              "    </div>\n",
              "\n",
              "    </div>\n",
              "  </div>\n"
            ],
            "application/vnd.google.colaboratory.intrinsic+json": {
              "type": "dataframe",
              "variable_name": "df",
              "summary": "{\n  \"name\": \"df\",\n  \"rows\": 937,\n  \"fields\": [\n    {\n      \"column\": \"Data\",\n      \"properties\": {\n        \"dtype\": \"object\",\n        \"num_unique_values\": 937,\n        \"samples\": [\n          \"20.06.2024\",\n          \"24.06.2025\",\n          \"27.11.2024\"\n        ],\n        \"semantic_type\": \"\",\n        \"description\": \"\"\n      }\n    },\n    {\n      \"column\": \"\\u00daltimo\",\n      \"properties\": {\n        \"dtype\": \"number\",\n        \"std\": 11.364770071132332,\n        \"min\": 96.121,\n        \"max\": 146.492,\n        \"num_unique_values\": 926,\n        \"samples\": [\n          119.568,\n          103.22,\n          134.432\n        ],\n        \"semantic_type\": \"\",\n        \"description\": \"\"\n      }\n    },\n    {\n      \"column\": \"Abertura\",\n      \"properties\": {\n        \"dtype\": \"number\",\n        \"std\": 11.345197861808902,\n        \"min\": 96.119,\n        \"max\": 146.492,\n        \"num_unique_values\": 926,\n        \"samples\": [\n          121.644,\n          103.22,\n          137.321\n        ],\n        \"semantic_type\": \"\",\n        \"description\": \"\"\n      }\n    },\n    {\n      \"column\": \"M\\u00e1xima\",\n      \"properties\": {\n        \"dtype\": \"number\",\n        \"std\": 11.271592478464774,\n        \"min\": 96.971,\n        \"max\": 147.578,\n        \"num_unique_values\": 924,\n        \"samples\": [\n          119.663,\n          121.628,\n          137.321\n        ],\n        \"semantic_type\": \"\",\n        \"description\": \"\"\n      }\n    },\n    {\n      \"column\": \"M\\u00ednima\",\n      \"properties\": {\n        \"dtype\": \"number\",\n        \"std\": 11.460564874197132,\n        \"min\": 95.267,\n        \"max\": 146.067,\n        \"num_unique_values\": 927,\n        \"samples\": [\n          126.057,\n          131.203,\n          133.997\n        ],\n        \"semantic_type\": \"\",\n        \"description\": \"\"\n      }\n    },\n    {\n      \"column\": \"Vol.\",\n      \"properties\": {\n        \"dtype\": \"string\",\n        \"num_unique_values\": 700,\n        \"samples\": [\n          \"7,82B\",\n          \"13,26M\",\n          \"9,61M\"\n        ],\n        \"semantic_type\": \"\",\n        \"description\": \"\"\n      }\n    },\n    {\n      \"column\": \"Var%\",\n      \"properties\": {\n        \"dtype\": \"category\",\n        \"num_unique_values\": 386,\n        \"samples\": [\n          \"2,35%\",\n          \"1,16%\",\n          \"0,06%\"\n        ],\n        \"semantic_type\": \"\",\n        \"description\": \"\"\n      }\n    }\n  ]\n}"
            }
          },
          "metadata": {},
          "execution_count": 6
        }
      ],
      "source": [
        "df.head(3)"
      ]
    },
    {
      "cell_type": "code",
      "execution_count": 7,
      "metadata": {
        "id": "PEscWZrfLXfj"
      },
      "outputs": [],
      "source": [
        "df['Data'] = pd.to_datetime(df['Data'], format='%d.%m.%Y')\n",
        "df['Var%'] = df['Var%'].str.replace('%','').str.replace(',','.').astype(float)"
      ]
    },
    {
      "cell_type": "code",
      "execution_count": 8,
      "metadata": {
        "id": "iPX0FzX4MsRF"
      },
      "outputs": [],
      "source": [
        "def converter_volume(valor):\n",
        "    valor = valor.replace(',', '.')\n",
        "\n",
        "    if 'B' in valor:\n",
        "        return float(valor.replace('B','')) * 1e9\n",
        "    elif 'M' in valor:\n",
        "        return float(valor.replace('M','')) * 1e6\n",
        "    else:\n",
        "        return float(valor)\n",
        "\n",
        "df['Vol.'] = df['Vol.'].apply(converter_volume)"
      ]
    },
    {
      "cell_type": "code",
      "execution_count": 9,
      "metadata": {
        "colab": {
          "base_uri": "https://localhost:8080/",
          "height": 143
        },
        "id": "fbO0M9scOKEU",
        "outputId": "ea7c240e-83e4-4185-fbb3-83b819835db4"
      },
      "outputs": [
        {
          "output_type": "execute_result",
          "data": {
            "text/plain": [
              "        Data   Último  Abertura   Máxima   Mínima          Vol.  Var%\n",
              "0 2025-09-30  146.237   146.337  147.578  145.774  9.480000e+09 -0.07\n",
              "1 2025-09-29  146.337   145.447  147.558  145.447  7.070000e+09  0.61\n",
              "2 2025-09-26  145.447   145.326  146.235  145.146  6.340000e+09  0.10"
            ],
            "text/html": [
              "\n",
              "  <div id=\"df-97c30e3f-1721-4946-a3f5-7841ef76e549\" class=\"colab-df-container\">\n",
              "    <div>\n",
              "<style scoped>\n",
              "    .dataframe tbody tr th:only-of-type {\n",
              "        vertical-align: middle;\n",
              "    }\n",
              "\n",
              "    .dataframe tbody tr th {\n",
              "        vertical-align: top;\n",
              "    }\n",
              "\n",
              "    .dataframe thead th {\n",
              "        text-align: right;\n",
              "    }\n",
              "</style>\n",
              "<table border=\"1\" class=\"dataframe\">\n",
              "  <thead>\n",
              "    <tr style=\"text-align: right;\">\n",
              "      <th></th>\n",
              "      <th>Data</th>\n",
              "      <th>Último</th>\n",
              "      <th>Abertura</th>\n",
              "      <th>Máxima</th>\n",
              "      <th>Mínima</th>\n",
              "      <th>Vol.</th>\n",
              "      <th>Var%</th>\n",
              "    </tr>\n",
              "  </thead>\n",
              "  <tbody>\n",
              "    <tr>\n",
              "      <th>0</th>\n",
              "      <td>2025-09-30</td>\n",
              "      <td>146.237</td>\n",
              "      <td>146.337</td>\n",
              "      <td>147.578</td>\n",
              "      <td>145.774</td>\n",
              "      <td>9.480000e+09</td>\n",
              "      <td>-0.07</td>\n",
              "    </tr>\n",
              "    <tr>\n",
              "      <th>1</th>\n",
              "      <td>2025-09-29</td>\n",
              "      <td>146.337</td>\n",
              "      <td>145.447</td>\n",
              "      <td>147.558</td>\n",
              "      <td>145.447</td>\n",
              "      <td>7.070000e+09</td>\n",
              "      <td>0.61</td>\n",
              "    </tr>\n",
              "    <tr>\n",
              "      <th>2</th>\n",
              "      <td>2025-09-26</td>\n",
              "      <td>145.447</td>\n",
              "      <td>145.326</td>\n",
              "      <td>146.235</td>\n",
              "      <td>145.146</td>\n",
              "      <td>6.340000e+09</td>\n",
              "      <td>0.10</td>\n",
              "    </tr>\n",
              "  </tbody>\n",
              "</table>\n",
              "</div>\n",
              "    <div class=\"colab-df-buttons\">\n",
              "\n",
              "  <div class=\"colab-df-container\">\n",
              "    <button class=\"colab-df-convert\" onclick=\"convertToInteractive('df-97c30e3f-1721-4946-a3f5-7841ef76e549')\"\n",
              "            title=\"Convert this dataframe to an interactive table.\"\n",
              "            style=\"display:none;\">\n",
              "\n",
              "  <svg xmlns=\"http://www.w3.org/2000/svg\" height=\"24px\" viewBox=\"0 -960 960 960\">\n",
              "    <path d=\"M120-120v-720h720v720H120Zm60-500h600v-160H180v160Zm220 220h160v-160H400v160Zm0 220h160v-160H400v160ZM180-400h160v-160H180v160Zm440 0h160v-160H620v160ZM180-180h160v-160H180v160Zm440 0h160v-160H620v160Z\"/>\n",
              "  </svg>\n",
              "    </button>\n",
              "\n",
              "  <style>\n",
              "    .colab-df-container {\n",
              "      display:flex;\n",
              "      gap: 12px;\n",
              "    }\n",
              "\n",
              "    .colab-df-convert {\n",
              "      background-color: #E8F0FE;\n",
              "      border: none;\n",
              "      border-radius: 50%;\n",
              "      cursor: pointer;\n",
              "      display: none;\n",
              "      fill: #1967D2;\n",
              "      height: 32px;\n",
              "      padding: 0 0 0 0;\n",
              "      width: 32px;\n",
              "    }\n",
              "\n",
              "    .colab-df-convert:hover {\n",
              "      background-color: #E2EBFA;\n",
              "      box-shadow: 0px 1px 2px rgba(60, 64, 67, 0.3), 0px 1px 3px 1px rgba(60, 64, 67, 0.15);\n",
              "      fill: #174EA6;\n",
              "    }\n",
              "\n",
              "    .colab-df-buttons div {\n",
              "      margin-bottom: 4px;\n",
              "    }\n",
              "\n",
              "    [theme=dark] .colab-df-convert {\n",
              "      background-color: #3B4455;\n",
              "      fill: #D2E3FC;\n",
              "    }\n",
              "\n",
              "    [theme=dark] .colab-df-convert:hover {\n",
              "      background-color: #434B5C;\n",
              "      box-shadow: 0px 1px 3px 1px rgba(0, 0, 0, 0.15);\n",
              "      filter: drop-shadow(0px 1px 2px rgba(0, 0, 0, 0.3));\n",
              "      fill: #FFFFFF;\n",
              "    }\n",
              "  </style>\n",
              "\n",
              "    <script>\n",
              "      const buttonEl =\n",
              "        document.querySelector('#df-97c30e3f-1721-4946-a3f5-7841ef76e549 button.colab-df-convert');\n",
              "      buttonEl.style.display =\n",
              "        google.colab.kernel.accessAllowed ? 'block' : 'none';\n",
              "\n",
              "      async function convertToInteractive(key) {\n",
              "        const element = document.querySelector('#df-97c30e3f-1721-4946-a3f5-7841ef76e549');\n",
              "        const dataTable =\n",
              "          await google.colab.kernel.invokeFunction('convertToInteractive',\n",
              "                                                    [key], {});\n",
              "        if (!dataTable) return;\n",
              "\n",
              "        const docLinkHtml = 'Like what you see? Visit the ' +\n",
              "          '<a target=\"_blank\" href=https://colab.research.google.com/notebooks/data_table.ipynb>data table notebook</a>'\n",
              "          + ' to learn more about interactive tables.';\n",
              "        element.innerHTML = '';\n",
              "        dataTable['output_type'] = 'display_data';\n",
              "        await google.colab.output.renderOutput(dataTable, element);\n",
              "        const docLink = document.createElement('div');\n",
              "        docLink.innerHTML = docLinkHtml;\n",
              "        element.appendChild(docLink);\n",
              "      }\n",
              "    </script>\n",
              "  </div>\n",
              "\n",
              "\n",
              "    <div id=\"df-b782286c-b6b9-43b3-a1d1-1ff71138f44d\">\n",
              "      <button class=\"colab-df-quickchart\" onclick=\"quickchart('df-b782286c-b6b9-43b3-a1d1-1ff71138f44d')\"\n",
              "                title=\"Suggest charts\"\n",
              "                style=\"display:none;\">\n",
              "\n",
              "<svg xmlns=\"http://www.w3.org/2000/svg\" height=\"24px\"viewBox=\"0 0 24 24\"\n",
              "     width=\"24px\">\n",
              "    <g>\n",
              "        <path d=\"M19 3H5c-1.1 0-2 .9-2 2v14c0 1.1.9 2 2 2h14c1.1 0 2-.9 2-2V5c0-1.1-.9-2-2-2zM9 17H7v-7h2v7zm4 0h-2V7h2v10zm4 0h-2v-4h2v4z\"/>\n",
              "    </g>\n",
              "</svg>\n",
              "      </button>\n",
              "\n",
              "<style>\n",
              "  .colab-df-quickchart {\n",
              "      --bg-color: #E8F0FE;\n",
              "      --fill-color: #1967D2;\n",
              "      --hover-bg-color: #E2EBFA;\n",
              "      --hover-fill-color: #174EA6;\n",
              "      --disabled-fill-color: #AAA;\n",
              "      --disabled-bg-color: #DDD;\n",
              "  }\n",
              "\n",
              "  [theme=dark] .colab-df-quickchart {\n",
              "      --bg-color: #3B4455;\n",
              "      --fill-color: #D2E3FC;\n",
              "      --hover-bg-color: #434B5C;\n",
              "      --hover-fill-color: #FFFFFF;\n",
              "      --disabled-bg-color: #3B4455;\n",
              "      --disabled-fill-color: #666;\n",
              "  }\n",
              "\n",
              "  .colab-df-quickchart {\n",
              "    background-color: var(--bg-color);\n",
              "    border: none;\n",
              "    border-radius: 50%;\n",
              "    cursor: pointer;\n",
              "    display: none;\n",
              "    fill: var(--fill-color);\n",
              "    height: 32px;\n",
              "    padding: 0;\n",
              "    width: 32px;\n",
              "  }\n",
              "\n",
              "  .colab-df-quickchart:hover {\n",
              "    background-color: var(--hover-bg-color);\n",
              "    box-shadow: 0 1px 2px rgba(60, 64, 67, 0.3), 0 1px 3px 1px rgba(60, 64, 67, 0.15);\n",
              "    fill: var(--button-hover-fill-color);\n",
              "  }\n",
              "\n",
              "  .colab-df-quickchart-complete:disabled,\n",
              "  .colab-df-quickchart-complete:disabled:hover {\n",
              "    background-color: var(--disabled-bg-color);\n",
              "    fill: var(--disabled-fill-color);\n",
              "    box-shadow: none;\n",
              "  }\n",
              "\n",
              "  .colab-df-spinner {\n",
              "    border: 2px solid var(--fill-color);\n",
              "    border-color: transparent;\n",
              "    border-bottom-color: var(--fill-color);\n",
              "    animation:\n",
              "      spin 1s steps(1) infinite;\n",
              "  }\n",
              "\n",
              "  @keyframes spin {\n",
              "    0% {\n",
              "      border-color: transparent;\n",
              "      border-bottom-color: var(--fill-color);\n",
              "      border-left-color: var(--fill-color);\n",
              "    }\n",
              "    20% {\n",
              "      border-color: transparent;\n",
              "      border-left-color: var(--fill-color);\n",
              "      border-top-color: var(--fill-color);\n",
              "    }\n",
              "    30% {\n",
              "      border-color: transparent;\n",
              "      border-left-color: var(--fill-color);\n",
              "      border-top-color: var(--fill-color);\n",
              "      border-right-color: var(--fill-color);\n",
              "    }\n",
              "    40% {\n",
              "      border-color: transparent;\n",
              "      border-right-color: var(--fill-color);\n",
              "      border-top-color: var(--fill-color);\n",
              "    }\n",
              "    60% {\n",
              "      border-color: transparent;\n",
              "      border-right-color: var(--fill-color);\n",
              "    }\n",
              "    80% {\n",
              "      border-color: transparent;\n",
              "      border-right-color: var(--fill-color);\n",
              "      border-bottom-color: var(--fill-color);\n",
              "    }\n",
              "    90% {\n",
              "      border-color: transparent;\n",
              "      border-bottom-color: var(--fill-color);\n",
              "    }\n",
              "  }\n",
              "</style>\n",
              "\n",
              "      <script>\n",
              "        async function quickchart(key) {\n",
              "          const quickchartButtonEl =\n",
              "            document.querySelector('#' + key + ' button');\n",
              "          quickchartButtonEl.disabled = true;  // To prevent multiple clicks.\n",
              "          quickchartButtonEl.classList.add('colab-df-spinner');\n",
              "          try {\n",
              "            const charts = await google.colab.kernel.invokeFunction(\n",
              "                'suggestCharts', [key], {});\n",
              "          } catch (error) {\n",
              "            console.error('Error during call to suggestCharts:', error);\n",
              "          }\n",
              "          quickchartButtonEl.classList.remove('colab-df-spinner');\n",
              "          quickchartButtonEl.classList.add('colab-df-quickchart-complete');\n",
              "        }\n",
              "        (() => {\n",
              "          let quickchartButtonEl =\n",
              "            document.querySelector('#df-b782286c-b6b9-43b3-a1d1-1ff71138f44d button');\n",
              "          quickchartButtonEl.style.display =\n",
              "            google.colab.kernel.accessAllowed ? 'block' : 'none';\n",
              "        })();\n",
              "      </script>\n",
              "    </div>\n",
              "\n",
              "    </div>\n",
              "  </div>\n"
            ],
            "application/vnd.google.colaboratory.intrinsic+json": {
              "type": "dataframe",
              "variable_name": "df",
              "summary": "{\n  \"name\": \"df\",\n  \"rows\": 937,\n  \"fields\": [\n    {\n      \"column\": \"Data\",\n      \"properties\": {\n        \"dtype\": \"date\",\n        \"min\": \"2022-01-03 00:00:00\",\n        \"max\": \"2025-09-30 00:00:00\",\n        \"num_unique_values\": 937,\n        \"samples\": [\n          \"2024-06-20 00:00:00\",\n          \"2025-06-24 00:00:00\",\n          \"2024-11-27 00:00:00\"\n        ],\n        \"semantic_type\": \"\",\n        \"description\": \"\"\n      }\n    },\n    {\n      \"column\": \"\\u00daltimo\",\n      \"properties\": {\n        \"dtype\": \"number\",\n        \"std\": 11.364770071132332,\n        \"min\": 96.121,\n        \"max\": 146.492,\n        \"num_unique_values\": 926,\n        \"samples\": [\n          119.568,\n          103.22,\n          134.432\n        ],\n        \"semantic_type\": \"\",\n        \"description\": \"\"\n      }\n    },\n    {\n      \"column\": \"Abertura\",\n      \"properties\": {\n        \"dtype\": \"number\",\n        \"std\": 11.345197861808902,\n        \"min\": 96.119,\n        \"max\": 146.492,\n        \"num_unique_values\": 926,\n        \"samples\": [\n          121.644,\n          103.22,\n          137.321\n        ],\n        \"semantic_type\": \"\",\n        \"description\": \"\"\n      }\n    },\n    {\n      \"column\": \"M\\u00e1xima\",\n      \"properties\": {\n        \"dtype\": \"number\",\n        \"std\": 11.271592478464774,\n        \"min\": 96.971,\n        \"max\": 147.578,\n        \"num_unique_values\": 924,\n        \"samples\": [\n          119.663,\n          121.628,\n          137.321\n        ],\n        \"semantic_type\": \"\",\n        \"description\": \"\"\n      }\n    },\n    {\n      \"column\": \"M\\u00ednima\",\n      \"properties\": {\n        \"dtype\": \"number\",\n        \"std\": 11.460564874197132,\n        \"min\": 95.267,\n        \"max\": 146.067,\n        \"num_unique_values\": 927,\n        \"samples\": [\n          126.057,\n          131.203,\n          133.997\n        ],\n        \"semantic_type\": \"\",\n        \"description\": \"\"\n      }\n    },\n    {\n      \"column\": \"Vol.\",\n      \"properties\": {\n        \"dtype\": \"number\",\n        \"std\": 3952608401.465862,\n        \"min\": 4330000.0,\n        \"max\": 24870000000.0,\n        \"num_unique_values\": 700,\n        \"samples\": [\n          7820000000.0,\n          13260000.0,\n          9610000.0\n        ],\n        \"semantic_type\": \"\",\n        \"description\": \"\"\n      }\n    },\n    {\n      \"column\": \"Var%\",\n      \"properties\": {\n        \"dtype\": \"number\",\n        \"std\": 1.067711433964367,\n        \"min\": -3.35,\n        \"max\": 5.54,\n        \"num_unique_values\": 386,\n        \"samples\": [\n          2.35,\n          1.16,\n          0.06\n        ],\n        \"semantic_type\": \"\",\n        \"description\": \"\"\n      }\n    }\n  ]\n}"
            }
          },
          "metadata": {},
          "execution_count": 9
        }
      ],
      "source": [
        "df.head(3)"
      ]
    },
    {
      "cell_type": "code",
      "execution_count": 10,
      "metadata": {
        "colab": {
          "base_uri": "https://localhost:8080/"
        },
        "id": "QZv-N7edOScV",
        "outputId": "c219ec83-c6dc-4f18-aafd-00dc8cbe7379"
      },
      "outputs": [
        {
          "output_type": "stream",
          "name": "stdout",
          "text": [
            "<class 'pandas.core.frame.DataFrame'>\n",
            "RangeIndex: 937 entries, 0 to 936\n",
            "Data columns (total 7 columns):\n",
            " #   Column    Non-Null Count  Dtype         \n",
            "---  ------    --------------  -----         \n",
            " 0   Data      937 non-null    datetime64[ns]\n",
            " 1   Último    937 non-null    float64       \n",
            " 2   Abertura  937 non-null    float64       \n",
            " 3   Máxima    937 non-null    float64       \n",
            " 4   Mínima    937 non-null    float64       \n",
            " 5   Vol.      937 non-null    float64       \n",
            " 6   Var%      937 non-null    float64       \n",
            "dtypes: datetime64[ns](1), float64(6)\n",
            "memory usage: 51.4 KB\n"
          ]
        }
      ],
      "source": [
        "df.info()"
      ]
    },
    {
      "cell_type": "code",
      "execution_count": 11,
      "metadata": {
        "id": "o2VQRWCUOjzq"
      },
      "outputs": [],
      "source": [
        "df = df.rename(columns={\n",
        "    'Data': 'data',\n",
        "    'Último': 'ultimo',\n",
        "    'Abertura': 'abertura',\n",
        "    'Máxima': 'max',\n",
        "    'Mínima': 'min',\n",
        "    'Vol.': 'volume',\n",
        "    'Var%': 'var'\n",
        "})"
      ]
    },
    {
      "cell_type": "code",
      "execution_count": 12,
      "metadata": {
        "colab": {
          "base_uri": "https://localhost:8080/",
          "height": 143
        },
        "id": "9cu922EDO53J",
        "outputId": "ae33ebcc-0389-4dec-d141-c095a3037b71"
      },
      "outputs": [
        {
          "output_type": "execute_result",
          "data": {
            "text/plain": [
              "        data   ultimo  abertura      max      min        volume   var\n",
              "0 2025-09-30  146.237   146.337  147.578  145.774  9.480000e+09 -0.07\n",
              "1 2025-09-29  146.337   145.447  147.558  145.447  7.070000e+09  0.61\n",
              "2 2025-09-26  145.447   145.326  146.235  145.146  6.340000e+09  0.10"
            ],
            "text/html": [
              "\n",
              "  <div id=\"df-63097351-3ec5-499b-b0ca-dcc2c9de57a6\" class=\"colab-df-container\">\n",
              "    <div>\n",
              "<style scoped>\n",
              "    .dataframe tbody tr th:only-of-type {\n",
              "        vertical-align: middle;\n",
              "    }\n",
              "\n",
              "    .dataframe tbody tr th {\n",
              "        vertical-align: top;\n",
              "    }\n",
              "\n",
              "    .dataframe thead th {\n",
              "        text-align: right;\n",
              "    }\n",
              "</style>\n",
              "<table border=\"1\" class=\"dataframe\">\n",
              "  <thead>\n",
              "    <tr style=\"text-align: right;\">\n",
              "      <th></th>\n",
              "      <th>data</th>\n",
              "      <th>ultimo</th>\n",
              "      <th>abertura</th>\n",
              "      <th>max</th>\n",
              "      <th>min</th>\n",
              "      <th>volume</th>\n",
              "      <th>var</th>\n",
              "    </tr>\n",
              "  </thead>\n",
              "  <tbody>\n",
              "    <tr>\n",
              "      <th>0</th>\n",
              "      <td>2025-09-30</td>\n",
              "      <td>146.237</td>\n",
              "      <td>146.337</td>\n",
              "      <td>147.578</td>\n",
              "      <td>145.774</td>\n",
              "      <td>9.480000e+09</td>\n",
              "      <td>-0.07</td>\n",
              "    </tr>\n",
              "    <tr>\n",
              "      <th>1</th>\n",
              "      <td>2025-09-29</td>\n",
              "      <td>146.337</td>\n",
              "      <td>145.447</td>\n",
              "      <td>147.558</td>\n",
              "      <td>145.447</td>\n",
              "      <td>7.070000e+09</td>\n",
              "      <td>0.61</td>\n",
              "    </tr>\n",
              "    <tr>\n",
              "      <th>2</th>\n",
              "      <td>2025-09-26</td>\n",
              "      <td>145.447</td>\n",
              "      <td>145.326</td>\n",
              "      <td>146.235</td>\n",
              "      <td>145.146</td>\n",
              "      <td>6.340000e+09</td>\n",
              "      <td>0.10</td>\n",
              "    </tr>\n",
              "  </tbody>\n",
              "</table>\n",
              "</div>\n",
              "    <div class=\"colab-df-buttons\">\n",
              "\n",
              "  <div class=\"colab-df-container\">\n",
              "    <button class=\"colab-df-convert\" onclick=\"convertToInteractive('df-63097351-3ec5-499b-b0ca-dcc2c9de57a6')\"\n",
              "            title=\"Convert this dataframe to an interactive table.\"\n",
              "            style=\"display:none;\">\n",
              "\n",
              "  <svg xmlns=\"http://www.w3.org/2000/svg\" height=\"24px\" viewBox=\"0 -960 960 960\">\n",
              "    <path d=\"M120-120v-720h720v720H120Zm60-500h600v-160H180v160Zm220 220h160v-160H400v160Zm0 220h160v-160H400v160ZM180-400h160v-160H180v160Zm440 0h160v-160H620v160ZM180-180h160v-160H180v160Zm440 0h160v-160H620v160Z\"/>\n",
              "  </svg>\n",
              "    </button>\n",
              "\n",
              "  <style>\n",
              "    .colab-df-container {\n",
              "      display:flex;\n",
              "      gap: 12px;\n",
              "    }\n",
              "\n",
              "    .colab-df-convert {\n",
              "      background-color: #E8F0FE;\n",
              "      border: none;\n",
              "      border-radius: 50%;\n",
              "      cursor: pointer;\n",
              "      display: none;\n",
              "      fill: #1967D2;\n",
              "      height: 32px;\n",
              "      padding: 0 0 0 0;\n",
              "      width: 32px;\n",
              "    }\n",
              "\n",
              "    .colab-df-convert:hover {\n",
              "      background-color: #E2EBFA;\n",
              "      box-shadow: 0px 1px 2px rgba(60, 64, 67, 0.3), 0px 1px 3px 1px rgba(60, 64, 67, 0.15);\n",
              "      fill: #174EA6;\n",
              "    }\n",
              "\n",
              "    .colab-df-buttons div {\n",
              "      margin-bottom: 4px;\n",
              "    }\n",
              "\n",
              "    [theme=dark] .colab-df-convert {\n",
              "      background-color: #3B4455;\n",
              "      fill: #D2E3FC;\n",
              "    }\n",
              "\n",
              "    [theme=dark] .colab-df-convert:hover {\n",
              "      background-color: #434B5C;\n",
              "      box-shadow: 0px 1px 3px 1px rgba(0, 0, 0, 0.15);\n",
              "      filter: drop-shadow(0px 1px 2px rgba(0, 0, 0, 0.3));\n",
              "      fill: #FFFFFF;\n",
              "    }\n",
              "  </style>\n",
              "\n",
              "    <script>\n",
              "      const buttonEl =\n",
              "        document.querySelector('#df-63097351-3ec5-499b-b0ca-dcc2c9de57a6 button.colab-df-convert');\n",
              "      buttonEl.style.display =\n",
              "        google.colab.kernel.accessAllowed ? 'block' : 'none';\n",
              "\n",
              "      async function convertToInteractive(key) {\n",
              "        const element = document.querySelector('#df-63097351-3ec5-499b-b0ca-dcc2c9de57a6');\n",
              "        const dataTable =\n",
              "          await google.colab.kernel.invokeFunction('convertToInteractive',\n",
              "                                                    [key], {});\n",
              "        if (!dataTable) return;\n",
              "\n",
              "        const docLinkHtml = 'Like what you see? Visit the ' +\n",
              "          '<a target=\"_blank\" href=https://colab.research.google.com/notebooks/data_table.ipynb>data table notebook</a>'\n",
              "          + ' to learn more about interactive tables.';\n",
              "        element.innerHTML = '';\n",
              "        dataTable['output_type'] = 'display_data';\n",
              "        await google.colab.output.renderOutput(dataTable, element);\n",
              "        const docLink = document.createElement('div');\n",
              "        docLink.innerHTML = docLinkHtml;\n",
              "        element.appendChild(docLink);\n",
              "      }\n",
              "    </script>\n",
              "  </div>\n",
              "\n",
              "\n",
              "    <div id=\"df-6537ed5f-9101-42ed-b503-63fa79c68efa\">\n",
              "      <button class=\"colab-df-quickchart\" onclick=\"quickchart('df-6537ed5f-9101-42ed-b503-63fa79c68efa')\"\n",
              "                title=\"Suggest charts\"\n",
              "                style=\"display:none;\">\n",
              "\n",
              "<svg xmlns=\"http://www.w3.org/2000/svg\" height=\"24px\"viewBox=\"0 0 24 24\"\n",
              "     width=\"24px\">\n",
              "    <g>\n",
              "        <path d=\"M19 3H5c-1.1 0-2 .9-2 2v14c0 1.1.9 2 2 2h14c1.1 0 2-.9 2-2V5c0-1.1-.9-2-2-2zM9 17H7v-7h2v7zm4 0h-2V7h2v10zm4 0h-2v-4h2v4z\"/>\n",
              "    </g>\n",
              "</svg>\n",
              "      </button>\n",
              "\n",
              "<style>\n",
              "  .colab-df-quickchart {\n",
              "      --bg-color: #E8F0FE;\n",
              "      --fill-color: #1967D2;\n",
              "      --hover-bg-color: #E2EBFA;\n",
              "      --hover-fill-color: #174EA6;\n",
              "      --disabled-fill-color: #AAA;\n",
              "      --disabled-bg-color: #DDD;\n",
              "  }\n",
              "\n",
              "  [theme=dark] .colab-df-quickchart {\n",
              "      --bg-color: #3B4455;\n",
              "      --fill-color: #D2E3FC;\n",
              "      --hover-bg-color: #434B5C;\n",
              "      --hover-fill-color: #FFFFFF;\n",
              "      --disabled-bg-color: #3B4455;\n",
              "      --disabled-fill-color: #666;\n",
              "  }\n",
              "\n",
              "  .colab-df-quickchart {\n",
              "    background-color: var(--bg-color);\n",
              "    border: none;\n",
              "    border-radius: 50%;\n",
              "    cursor: pointer;\n",
              "    display: none;\n",
              "    fill: var(--fill-color);\n",
              "    height: 32px;\n",
              "    padding: 0;\n",
              "    width: 32px;\n",
              "  }\n",
              "\n",
              "  .colab-df-quickchart:hover {\n",
              "    background-color: var(--hover-bg-color);\n",
              "    box-shadow: 0 1px 2px rgba(60, 64, 67, 0.3), 0 1px 3px 1px rgba(60, 64, 67, 0.15);\n",
              "    fill: var(--button-hover-fill-color);\n",
              "  }\n",
              "\n",
              "  .colab-df-quickchart-complete:disabled,\n",
              "  .colab-df-quickchart-complete:disabled:hover {\n",
              "    background-color: var(--disabled-bg-color);\n",
              "    fill: var(--disabled-fill-color);\n",
              "    box-shadow: none;\n",
              "  }\n",
              "\n",
              "  .colab-df-spinner {\n",
              "    border: 2px solid var(--fill-color);\n",
              "    border-color: transparent;\n",
              "    border-bottom-color: var(--fill-color);\n",
              "    animation:\n",
              "      spin 1s steps(1) infinite;\n",
              "  }\n",
              "\n",
              "  @keyframes spin {\n",
              "    0% {\n",
              "      border-color: transparent;\n",
              "      border-bottom-color: var(--fill-color);\n",
              "      border-left-color: var(--fill-color);\n",
              "    }\n",
              "    20% {\n",
              "      border-color: transparent;\n",
              "      border-left-color: var(--fill-color);\n",
              "      border-top-color: var(--fill-color);\n",
              "    }\n",
              "    30% {\n",
              "      border-color: transparent;\n",
              "      border-left-color: var(--fill-color);\n",
              "      border-top-color: var(--fill-color);\n",
              "      border-right-color: var(--fill-color);\n",
              "    }\n",
              "    40% {\n",
              "      border-color: transparent;\n",
              "      border-right-color: var(--fill-color);\n",
              "      border-top-color: var(--fill-color);\n",
              "    }\n",
              "    60% {\n",
              "      border-color: transparent;\n",
              "      border-right-color: var(--fill-color);\n",
              "    }\n",
              "    80% {\n",
              "      border-color: transparent;\n",
              "      border-right-color: var(--fill-color);\n",
              "      border-bottom-color: var(--fill-color);\n",
              "    }\n",
              "    90% {\n",
              "      border-color: transparent;\n",
              "      border-bottom-color: var(--fill-color);\n",
              "    }\n",
              "  }\n",
              "</style>\n",
              "\n",
              "      <script>\n",
              "        async function quickchart(key) {\n",
              "          const quickchartButtonEl =\n",
              "            document.querySelector('#' + key + ' button');\n",
              "          quickchartButtonEl.disabled = true;  // To prevent multiple clicks.\n",
              "          quickchartButtonEl.classList.add('colab-df-spinner');\n",
              "          try {\n",
              "            const charts = await google.colab.kernel.invokeFunction(\n",
              "                'suggestCharts', [key], {});\n",
              "          } catch (error) {\n",
              "            console.error('Error during call to suggestCharts:', error);\n",
              "          }\n",
              "          quickchartButtonEl.classList.remove('colab-df-spinner');\n",
              "          quickchartButtonEl.classList.add('colab-df-quickchart-complete');\n",
              "        }\n",
              "        (() => {\n",
              "          let quickchartButtonEl =\n",
              "            document.querySelector('#df-6537ed5f-9101-42ed-b503-63fa79c68efa button');\n",
              "          quickchartButtonEl.style.display =\n",
              "            google.colab.kernel.accessAllowed ? 'block' : 'none';\n",
              "        })();\n",
              "      </script>\n",
              "    </div>\n",
              "\n",
              "    </div>\n",
              "  </div>\n"
            ],
            "application/vnd.google.colaboratory.intrinsic+json": {
              "type": "dataframe",
              "variable_name": "df",
              "summary": "{\n  \"name\": \"df\",\n  \"rows\": 937,\n  \"fields\": [\n    {\n      \"column\": \"data\",\n      \"properties\": {\n        \"dtype\": \"date\",\n        \"min\": \"2022-01-03 00:00:00\",\n        \"max\": \"2025-09-30 00:00:00\",\n        \"num_unique_values\": 937,\n        \"samples\": [\n          \"2024-06-20 00:00:00\",\n          \"2025-06-24 00:00:00\",\n          \"2024-11-27 00:00:00\"\n        ],\n        \"semantic_type\": \"\",\n        \"description\": \"\"\n      }\n    },\n    {\n      \"column\": \"ultimo\",\n      \"properties\": {\n        \"dtype\": \"number\",\n        \"std\": 11.364770071132332,\n        \"min\": 96.121,\n        \"max\": 146.492,\n        \"num_unique_values\": 926,\n        \"samples\": [\n          119.568,\n          103.22,\n          134.432\n        ],\n        \"semantic_type\": \"\",\n        \"description\": \"\"\n      }\n    },\n    {\n      \"column\": \"abertura\",\n      \"properties\": {\n        \"dtype\": \"number\",\n        \"std\": 11.345197861808902,\n        \"min\": 96.119,\n        \"max\": 146.492,\n        \"num_unique_values\": 926,\n        \"samples\": [\n          121.644,\n          103.22,\n          137.321\n        ],\n        \"semantic_type\": \"\",\n        \"description\": \"\"\n      }\n    },\n    {\n      \"column\": \"max\",\n      \"properties\": {\n        \"dtype\": \"number\",\n        \"std\": 11.271592478464774,\n        \"min\": 96.971,\n        \"max\": 147.578,\n        \"num_unique_values\": 924,\n        \"samples\": [\n          119.663,\n          121.628,\n          137.321\n        ],\n        \"semantic_type\": \"\",\n        \"description\": \"\"\n      }\n    },\n    {\n      \"column\": \"min\",\n      \"properties\": {\n        \"dtype\": \"number\",\n        \"std\": 11.460564874197132,\n        \"min\": 95.267,\n        \"max\": 146.067,\n        \"num_unique_values\": 927,\n        \"samples\": [\n          126.057,\n          131.203,\n          133.997\n        ],\n        \"semantic_type\": \"\",\n        \"description\": \"\"\n      }\n    },\n    {\n      \"column\": \"volume\",\n      \"properties\": {\n        \"dtype\": \"number\",\n        \"std\": 3952608401.465862,\n        \"min\": 4330000.0,\n        \"max\": 24870000000.0,\n        \"num_unique_values\": 700,\n        \"samples\": [\n          7820000000.0,\n          13260000.0,\n          9610000.0\n        ],\n        \"semantic_type\": \"\",\n        \"description\": \"\"\n      }\n    },\n    {\n      \"column\": \"var\",\n      \"properties\": {\n        \"dtype\": \"number\",\n        \"std\": 1.067711433964367,\n        \"min\": -3.35,\n        \"max\": 5.54,\n        \"num_unique_values\": 386,\n        \"samples\": [\n          2.35,\n          1.16,\n          0.06\n        ],\n        \"semantic_type\": \"\",\n        \"description\": \"\"\n      }\n    }\n  ]\n}"
            }
          },
          "metadata": {},
          "execution_count": 12
        }
      ],
      "source": [
        "df.head(3)"
      ]
    },
    {
      "cell_type": "code",
      "execution_count": 13,
      "metadata": {
        "colab": {
          "base_uri": "https://localhost:8080/"
        },
        "id": "jAjHyezFPH1M",
        "outputId": "7043a183-1f06-4b3a-b2f2-25d8cc176999"
      },
      "outputs": [
        {
          "output_type": "stream",
          "name": "stdout",
          "text": [
            "<class 'pandas.core.frame.DataFrame'>\n",
            "RangeIndex: 937 entries, 0 to 936\n",
            "Data columns (total 7 columns):\n",
            " #   Column    Non-Null Count  Dtype         \n",
            "---  ------    --------------  -----         \n",
            " 0   data      937 non-null    datetime64[ns]\n",
            " 1   ultimo    937 non-null    float64       \n",
            " 2   abertura  937 non-null    float64       \n",
            " 3   max       937 non-null    float64       \n",
            " 4   min       937 non-null    float64       \n",
            " 5   volume    937 non-null    float64       \n",
            " 6   var       937 non-null    float64       \n",
            "dtypes: datetime64[ns](1), float64(6)\n",
            "memory usage: 51.4 KB\n"
          ]
        }
      ],
      "source": [
        "df.info()"
      ]
    },
    {
      "cell_type": "markdown",
      "metadata": {
        "id": "n3_VlN2-bLVA"
      },
      "source": [
        "#### **Tarefa 3:** Realizar a limpeza, tratando valores ausentes (se houver) e duplicados"
      ]
    },
    {
      "cell_type": "code",
      "execution_count": 14,
      "metadata": {
        "colab": {
          "base_uri": "https://localhost:8080/",
          "height": 304
        },
        "id": "-m9on-0DPO36",
        "outputId": "2af2f2c3-f776-4548-8b42-42dc1a68a03e"
      },
      "outputs": [
        {
          "output_type": "execute_result",
          "data": {
            "text/plain": [
              "data        0\n",
              "ultimo      0\n",
              "abertura    0\n",
              "max         0\n",
              "min         0\n",
              "volume      0\n",
              "var         0\n",
              "dtype: int64"
            ],
            "text/html": [
              "<div>\n",
              "<style scoped>\n",
              "    .dataframe tbody tr th:only-of-type {\n",
              "        vertical-align: middle;\n",
              "    }\n",
              "\n",
              "    .dataframe tbody tr th {\n",
              "        vertical-align: top;\n",
              "    }\n",
              "\n",
              "    .dataframe thead th {\n",
              "        text-align: right;\n",
              "    }\n",
              "</style>\n",
              "<table border=\"1\" class=\"dataframe\">\n",
              "  <thead>\n",
              "    <tr style=\"text-align: right;\">\n",
              "      <th></th>\n",
              "      <th>0</th>\n",
              "    </tr>\n",
              "  </thead>\n",
              "  <tbody>\n",
              "    <tr>\n",
              "      <th>data</th>\n",
              "      <td>0</td>\n",
              "    </tr>\n",
              "    <tr>\n",
              "      <th>ultimo</th>\n",
              "      <td>0</td>\n",
              "    </tr>\n",
              "    <tr>\n",
              "      <th>abertura</th>\n",
              "      <td>0</td>\n",
              "    </tr>\n",
              "    <tr>\n",
              "      <th>max</th>\n",
              "      <td>0</td>\n",
              "    </tr>\n",
              "    <tr>\n",
              "      <th>min</th>\n",
              "      <td>0</td>\n",
              "    </tr>\n",
              "    <tr>\n",
              "      <th>volume</th>\n",
              "      <td>0</td>\n",
              "    </tr>\n",
              "    <tr>\n",
              "      <th>var</th>\n",
              "      <td>0</td>\n",
              "    </tr>\n",
              "  </tbody>\n",
              "</table>\n",
              "</div><br><label><b>dtype:</b> int64</label>"
            ]
          },
          "metadata": {},
          "execution_count": 14
        }
      ],
      "source": [
        "df.isnull().sum()"
      ]
    },
    {
      "cell_type": "code",
      "execution_count": 15,
      "metadata": {
        "colab": {
          "base_uri": "https://localhost:8080/"
        },
        "id": "No3ycoNCPYCG",
        "outputId": "570f98cf-0b40-4802-9be4-cf840a677c73"
      },
      "outputs": [
        {
          "output_type": "execute_result",
          "data": {
            "text/plain": [
              "np.int64(0)"
            ]
          },
          "metadata": {},
          "execution_count": 15
        }
      ],
      "source": [
        "df.duplicated().sum()"
      ]
    },
    {
      "cell_type": "code",
      "execution_count": 16,
      "metadata": {
        "colab": {
          "base_uri": "https://localhost:8080/"
        },
        "id": "yEgzLWTXQQiB",
        "outputId": "3c26eb83-415d-4907-b86b-d313cdbaab6c"
      },
      "outputs": [
        {
          "output_type": "execute_result",
          "data": {
            "text/plain": [
              "Timestamp('2022-01-03 00:00:00')"
            ]
          },
          "metadata": {},
          "execution_count": 16
        }
      ],
      "source": [
        "df.data.min()"
      ]
    },
    {
      "cell_type": "code",
      "execution_count": 17,
      "metadata": {
        "colab": {
          "base_uri": "https://localhost:8080/"
        },
        "id": "cvgE0TYQRB5N",
        "outputId": "4429311a-9447-4c56-f29d-22b06078f25b"
      },
      "outputs": [
        {
          "output_type": "execute_result",
          "data": {
            "text/plain": [
              "Timestamp('2025-09-30 00:00:00')"
            ]
          },
          "metadata": {},
          "execution_count": 17
        }
      ],
      "source": [
        "df.data.max()"
      ]
    },
    {
      "cell_type": "markdown",
      "metadata": {
        "id": "_On2YjRbbk7F"
      },
      "source": [
        "#### **Tarefa 4:** Converter a coluna de data para o formato \"datetime\" e defini-la como índice"
      ]
    },
    {
      "cell_type": "code",
      "execution_count": 18,
      "metadata": {
        "id": "q8LHK7tVPz3B"
      },
      "outputs": [],
      "source": [
        "df = df.set_index('data')"
      ]
    },
    {
      "cell_type": "code",
      "execution_count": 19,
      "metadata": {
        "colab": {
          "base_uri": "https://localhost:8080/",
          "height": 143
        },
        "id": "Z5NBScLhQPVv",
        "outputId": "bbb310aa-2736-428d-8c93-f4b67aa70ad7"
      },
      "outputs": [
        {
          "output_type": "execute_result",
          "data": {
            "text/plain": [
              "             ultimo  abertura      max      min        volume   var\n",
              "data                                                               \n",
              "2025-09-30  146.237   146.337  147.578  145.774  9.480000e+09 -0.07\n",
              "2025-09-29  146.337   145.447  147.558  145.447  7.070000e+09  0.61"
            ],
            "text/html": [
              "\n",
              "  <div id=\"df-8a88d898-70a0-4c91-8821-b745e6321249\" class=\"colab-df-container\">\n",
              "    <div>\n",
              "<style scoped>\n",
              "    .dataframe tbody tr th:only-of-type {\n",
              "        vertical-align: middle;\n",
              "    }\n",
              "\n",
              "    .dataframe tbody tr th {\n",
              "        vertical-align: top;\n",
              "    }\n",
              "\n",
              "    .dataframe thead th {\n",
              "        text-align: right;\n",
              "    }\n",
              "</style>\n",
              "<table border=\"1\" class=\"dataframe\">\n",
              "  <thead>\n",
              "    <tr style=\"text-align: right;\">\n",
              "      <th></th>\n",
              "      <th>ultimo</th>\n",
              "      <th>abertura</th>\n",
              "      <th>max</th>\n",
              "      <th>min</th>\n",
              "      <th>volume</th>\n",
              "      <th>var</th>\n",
              "    </tr>\n",
              "    <tr>\n",
              "      <th>data</th>\n",
              "      <th></th>\n",
              "      <th></th>\n",
              "      <th></th>\n",
              "      <th></th>\n",
              "      <th></th>\n",
              "      <th></th>\n",
              "    </tr>\n",
              "  </thead>\n",
              "  <tbody>\n",
              "    <tr>\n",
              "      <th>2025-09-30</th>\n",
              "      <td>146.237</td>\n",
              "      <td>146.337</td>\n",
              "      <td>147.578</td>\n",
              "      <td>145.774</td>\n",
              "      <td>9.480000e+09</td>\n",
              "      <td>-0.07</td>\n",
              "    </tr>\n",
              "    <tr>\n",
              "      <th>2025-09-29</th>\n",
              "      <td>146.337</td>\n",
              "      <td>145.447</td>\n",
              "      <td>147.558</td>\n",
              "      <td>145.447</td>\n",
              "      <td>7.070000e+09</td>\n",
              "      <td>0.61</td>\n",
              "    </tr>\n",
              "  </tbody>\n",
              "</table>\n",
              "</div>\n",
              "    <div class=\"colab-df-buttons\">\n",
              "\n",
              "  <div class=\"colab-df-container\">\n",
              "    <button class=\"colab-df-convert\" onclick=\"convertToInteractive('df-8a88d898-70a0-4c91-8821-b745e6321249')\"\n",
              "            title=\"Convert this dataframe to an interactive table.\"\n",
              "            style=\"display:none;\">\n",
              "\n",
              "  <svg xmlns=\"http://www.w3.org/2000/svg\" height=\"24px\" viewBox=\"0 -960 960 960\">\n",
              "    <path d=\"M120-120v-720h720v720H120Zm60-500h600v-160H180v160Zm220 220h160v-160H400v160Zm0 220h160v-160H400v160ZM180-400h160v-160H180v160Zm440 0h160v-160H620v160ZM180-180h160v-160H180v160Zm440 0h160v-160H620v160Z\"/>\n",
              "  </svg>\n",
              "    </button>\n",
              "\n",
              "  <style>\n",
              "    .colab-df-container {\n",
              "      display:flex;\n",
              "      gap: 12px;\n",
              "    }\n",
              "\n",
              "    .colab-df-convert {\n",
              "      background-color: #E8F0FE;\n",
              "      border: none;\n",
              "      border-radius: 50%;\n",
              "      cursor: pointer;\n",
              "      display: none;\n",
              "      fill: #1967D2;\n",
              "      height: 32px;\n",
              "      padding: 0 0 0 0;\n",
              "      width: 32px;\n",
              "    }\n",
              "\n",
              "    .colab-df-convert:hover {\n",
              "      background-color: #E2EBFA;\n",
              "      box-shadow: 0px 1px 2px rgba(60, 64, 67, 0.3), 0px 1px 3px 1px rgba(60, 64, 67, 0.15);\n",
              "      fill: #174EA6;\n",
              "    }\n",
              "\n",
              "    .colab-df-buttons div {\n",
              "      margin-bottom: 4px;\n",
              "    }\n",
              "\n",
              "    [theme=dark] .colab-df-convert {\n",
              "      background-color: #3B4455;\n",
              "      fill: #D2E3FC;\n",
              "    }\n",
              "\n",
              "    [theme=dark] .colab-df-convert:hover {\n",
              "      background-color: #434B5C;\n",
              "      box-shadow: 0px 1px 3px 1px rgba(0, 0, 0, 0.15);\n",
              "      filter: drop-shadow(0px 1px 2px rgba(0, 0, 0, 0.3));\n",
              "      fill: #FFFFFF;\n",
              "    }\n",
              "  </style>\n",
              "\n",
              "    <script>\n",
              "      const buttonEl =\n",
              "        document.querySelector('#df-8a88d898-70a0-4c91-8821-b745e6321249 button.colab-df-convert');\n",
              "      buttonEl.style.display =\n",
              "        google.colab.kernel.accessAllowed ? 'block' : 'none';\n",
              "\n",
              "      async function convertToInteractive(key) {\n",
              "        const element = document.querySelector('#df-8a88d898-70a0-4c91-8821-b745e6321249');\n",
              "        const dataTable =\n",
              "          await google.colab.kernel.invokeFunction('convertToInteractive',\n",
              "                                                    [key], {});\n",
              "        if (!dataTable) return;\n",
              "\n",
              "        const docLinkHtml = 'Like what you see? Visit the ' +\n",
              "          '<a target=\"_blank\" href=https://colab.research.google.com/notebooks/data_table.ipynb>data table notebook</a>'\n",
              "          + ' to learn more about interactive tables.';\n",
              "        element.innerHTML = '';\n",
              "        dataTable['output_type'] = 'display_data';\n",
              "        await google.colab.output.renderOutput(dataTable, element);\n",
              "        const docLink = document.createElement('div');\n",
              "        docLink.innerHTML = docLinkHtml;\n",
              "        element.appendChild(docLink);\n",
              "      }\n",
              "    </script>\n",
              "  </div>\n",
              "\n",
              "\n",
              "    <div id=\"df-0d7f6eb3-f536-4c3d-8e2c-77a39e2f75ec\">\n",
              "      <button class=\"colab-df-quickchart\" onclick=\"quickchart('df-0d7f6eb3-f536-4c3d-8e2c-77a39e2f75ec')\"\n",
              "                title=\"Suggest charts\"\n",
              "                style=\"display:none;\">\n",
              "\n",
              "<svg xmlns=\"http://www.w3.org/2000/svg\" height=\"24px\"viewBox=\"0 0 24 24\"\n",
              "     width=\"24px\">\n",
              "    <g>\n",
              "        <path d=\"M19 3H5c-1.1 0-2 .9-2 2v14c0 1.1.9 2 2 2h14c1.1 0 2-.9 2-2V5c0-1.1-.9-2-2-2zM9 17H7v-7h2v7zm4 0h-2V7h2v10zm4 0h-2v-4h2v4z\"/>\n",
              "    </g>\n",
              "</svg>\n",
              "      </button>\n",
              "\n",
              "<style>\n",
              "  .colab-df-quickchart {\n",
              "      --bg-color: #E8F0FE;\n",
              "      --fill-color: #1967D2;\n",
              "      --hover-bg-color: #E2EBFA;\n",
              "      --hover-fill-color: #174EA6;\n",
              "      --disabled-fill-color: #AAA;\n",
              "      --disabled-bg-color: #DDD;\n",
              "  }\n",
              "\n",
              "  [theme=dark] .colab-df-quickchart {\n",
              "      --bg-color: #3B4455;\n",
              "      --fill-color: #D2E3FC;\n",
              "      --hover-bg-color: #434B5C;\n",
              "      --hover-fill-color: #FFFFFF;\n",
              "      --disabled-bg-color: #3B4455;\n",
              "      --disabled-fill-color: #666;\n",
              "  }\n",
              "\n",
              "  .colab-df-quickchart {\n",
              "    background-color: var(--bg-color);\n",
              "    border: none;\n",
              "    border-radius: 50%;\n",
              "    cursor: pointer;\n",
              "    display: none;\n",
              "    fill: var(--fill-color);\n",
              "    height: 32px;\n",
              "    padding: 0;\n",
              "    width: 32px;\n",
              "  }\n",
              "\n",
              "  .colab-df-quickchart:hover {\n",
              "    background-color: var(--hover-bg-color);\n",
              "    box-shadow: 0 1px 2px rgba(60, 64, 67, 0.3), 0 1px 3px 1px rgba(60, 64, 67, 0.15);\n",
              "    fill: var(--button-hover-fill-color);\n",
              "  }\n",
              "\n",
              "  .colab-df-quickchart-complete:disabled,\n",
              "  .colab-df-quickchart-complete:disabled:hover {\n",
              "    background-color: var(--disabled-bg-color);\n",
              "    fill: var(--disabled-fill-color);\n",
              "    box-shadow: none;\n",
              "  }\n",
              "\n",
              "  .colab-df-spinner {\n",
              "    border: 2px solid var(--fill-color);\n",
              "    border-color: transparent;\n",
              "    border-bottom-color: var(--fill-color);\n",
              "    animation:\n",
              "      spin 1s steps(1) infinite;\n",
              "  }\n",
              "\n",
              "  @keyframes spin {\n",
              "    0% {\n",
              "      border-color: transparent;\n",
              "      border-bottom-color: var(--fill-color);\n",
              "      border-left-color: var(--fill-color);\n",
              "    }\n",
              "    20% {\n",
              "      border-color: transparent;\n",
              "      border-left-color: var(--fill-color);\n",
              "      border-top-color: var(--fill-color);\n",
              "    }\n",
              "    30% {\n",
              "      border-color: transparent;\n",
              "      border-left-color: var(--fill-color);\n",
              "      border-top-color: var(--fill-color);\n",
              "      border-right-color: var(--fill-color);\n",
              "    }\n",
              "    40% {\n",
              "      border-color: transparent;\n",
              "      border-right-color: var(--fill-color);\n",
              "      border-top-color: var(--fill-color);\n",
              "    }\n",
              "    60% {\n",
              "      border-color: transparent;\n",
              "      border-right-color: var(--fill-color);\n",
              "    }\n",
              "    80% {\n",
              "      border-color: transparent;\n",
              "      border-right-color: var(--fill-color);\n",
              "      border-bottom-color: var(--fill-color);\n",
              "    }\n",
              "    90% {\n",
              "      border-color: transparent;\n",
              "      border-bottom-color: var(--fill-color);\n",
              "    }\n",
              "  }\n",
              "</style>\n",
              "\n",
              "      <script>\n",
              "        async function quickchart(key) {\n",
              "          const quickchartButtonEl =\n",
              "            document.querySelector('#' + key + ' button');\n",
              "          quickchartButtonEl.disabled = true;  // To prevent multiple clicks.\n",
              "          quickchartButtonEl.classList.add('colab-df-spinner');\n",
              "          try {\n",
              "            const charts = await google.colab.kernel.invokeFunction(\n",
              "                'suggestCharts', [key], {});\n",
              "          } catch (error) {\n",
              "            console.error('Error during call to suggestCharts:', error);\n",
              "          }\n",
              "          quickchartButtonEl.classList.remove('colab-df-spinner');\n",
              "          quickchartButtonEl.classList.add('colab-df-quickchart-complete');\n",
              "        }\n",
              "        (() => {\n",
              "          let quickchartButtonEl =\n",
              "            document.querySelector('#df-0d7f6eb3-f536-4c3d-8e2c-77a39e2f75ec button');\n",
              "          quickchartButtonEl.style.display =\n",
              "            google.colab.kernel.accessAllowed ? 'block' : 'none';\n",
              "        })();\n",
              "      </script>\n",
              "    </div>\n",
              "\n",
              "    </div>\n",
              "  </div>\n"
            ],
            "application/vnd.google.colaboratory.intrinsic+json": {
              "type": "dataframe",
              "variable_name": "df",
              "summary": "{\n  \"name\": \"df\",\n  \"rows\": 937,\n  \"fields\": [\n    {\n      \"column\": \"data\",\n      \"properties\": {\n        \"dtype\": \"date\",\n        \"min\": \"2022-01-03 00:00:00\",\n        \"max\": \"2025-09-30 00:00:00\",\n        \"num_unique_values\": 937,\n        \"samples\": [\n          \"2024-06-20 00:00:00\",\n          \"2025-06-24 00:00:00\",\n          \"2024-11-27 00:00:00\"\n        ],\n        \"semantic_type\": \"\",\n        \"description\": \"\"\n      }\n    },\n    {\n      \"column\": \"ultimo\",\n      \"properties\": {\n        \"dtype\": \"number\",\n        \"std\": 11.364770071132332,\n        \"min\": 96.121,\n        \"max\": 146.492,\n        \"num_unique_values\": 926,\n        \"samples\": [\n          119.568,\n          103.22,\n          134.432\n        ],\n        \"semantic_type\": \"\",\n        \"description\": \"\"\n      }\n    },\n    {\n      \"column\": \"abertura\",\n      \"properties\": {\n        \"dtype\": \"number\",\n        \"std\": 11.345197861808902,\n        \"min\": 96.119,\n        \"max\": 146.492,\n        \"num_unique_values\": 926,\n        \"samples\": [\n          121.644,\n          103.22,\n          137.321\n        ],\n        \"semantic_type\": \"\",\n        \"description\": \"\"\n      }\n    },\n    {\n      \"column\": \"max\",\n      \"properties\": {\n        \"dtype\": \"number\",\n        \"std\": 11.271592478464774,\n        \"min\": 96.971,\n        \"max\": 147.578,\n        \"num_unique_values\": 924,\n        \"samples\": [\n          119.663,\n          121.628,\n          137.321\n        ],\n        \"semantic_type\": \"\",\n        \"description\": \"\"\n      }\n    },\n    {\n      \"column\": \"min\",\n      \"properties\": {\n        \"dtype\": \"number\",\n        \"std\": 11.460564874197132,\n        \"min\": 95.267,\n        \"max\": 146.067,\n        \"num_unique_values\": 927,\n        \"samples\": [\n          126.057,\n          131.203,\n          133.997\n        ],\n        \"semantic_type\": \"\",\n        \"description\": \"\"\n      }\n    },\n    {\n      \"column\": \"volume\",\n      \"properties\": {\n        \"dtype\": \"number\",\n        \"std\": 3952608401.465862,\n        \"min\": 4330000.0,\n        \"max\": 24870000000.0,\n        \"num_unique_values\": 700,\n        \"samples\": [\n          7820000000.0,\n          13260000.0,\n          9610000.0\n        ],\n        \"semantic_type\": \"\",\n        \"description\": \"\"\n      }\n    },\n    {\n      \"column\": \"var\",\n      \"properties\": {\n        \"dtype\": \"number\",\n        \"std\": 1.067711433964367,\n        \"min\": -3.35,\n        \"max\": 5.54,\n        \"num_unique_values\": 386,\n        \"samples\": [\n          2.35,\n          1.16,\n          0.06\n        ],\n        \"semantic_type\": \"\",\n        \"description\": \"\"\n      }\n    }\n  ]\n}"
            }
          },
          "metadata": {},
          "execution_count": 19
        }
      ],
      "source": [
        "df.head(2)"
      ]
    },
    {
      "cell_type": "markdown",
      "metadata": {
        "id": "vqEQMmqpcBwn"
      },
      "source": [
        "### **Leticia:** Análise Exploratória de Dados e Definição da Variável Alvo\n",
        "**Objetivos** - Compreender as características dos dados, gerar hipóteses e definir claramente o que o modelo deve prever"
      ]
    },
    {
      "cell_type": "code",
      "source": [
        "# Ordenação do índice\n",
        "df = df.sort_index(ascending=True)"
      ],
      "metadata": {
        "id": "MEcVLUMjJyx7"
      },
      "execution_count": 20,
      "outputs": []
    },
    {
      "cell_type": "code",
      "source": [
        "df.head()"
      ],
      "metadata": {
        "colab": {
          "base_uri": "https://localhost:8080/",
          "height": 238
        },
        "id": "p85sBNHjJ4SZ",
        "outputId": "85a502e1-7fd1-413f-a816-a6422f891dab"
      },
      "execution_count": 21,
      "outputs": [
        {
          "output_type": "execute_result",
          "data": {
            "text/plain": [
              "             ultimo  abertura      max      min      volume   var\n",
              "data                                                             \n",
              "2022-01-03  103.922   104.823  106.125  103.413  11130000.0 -0.86\n",
              "2022-01-04  103.514   103.922  104.276  103.096  11490000.0 -0.39\n",
              "2022-01-05  101.006   103.514  103.514  100.850  12880000.0 -2.42\n",
              "2022-01-06  101.561   101.006  102.235  101.000  11750000.0  0.55\n",
              "2022-01-07  102.719   101.561  102.719  101.104  11730000.0  1.14"
            ],
            "text/html": [
              "\n",
              "  <div id=\"df-3a5f5783-6a6c-461b-a52e-4ec1c070b840\" class=\"colab-df-container\">\n",
              "    <div>\n",
              "<style scoped>\n",
              "    .dataframe tbody tr th:only-of-type {\n",
              "        vertical-align: middle;\n",
              "    }\n",
              "\n",
              "    .dataframe tbody tr th {\n",
              "        vertical-align: top;\n",
              "    }\n",
              "\n",
              "    .dataframe thead th {\n",
              "        text-align: right;\n",
              "    }\n",
              "</style>\n",
              "<table border=\"1\" class=\"dataframe\">\n",
              "  <thead>\n",
              "    <tr style=\"text-align: right;\">\n",
              "      <th></th>\n",
              "      <th>ultimo</th>\n",
              "      <th>abertura</th>\n",
              "      <th>max</th>\n",
              "      <th>min</th>\n",
              "      <th>volume</th>\n",
              "      <th>var</th>\n",
              "    </tr>\n",
              "    <tr>\n",
              "      <th>data</th>\n",
              "      <th></th>\n",
              "      <th></th>\n",
              "      <th></th>\n",
              "      <th></th>\n",
              "      <th></th>\n",
              "      <th></th>\n",
              "    </tr>\n",
              "  </thead>\n",
              "  <tbody>\n",
              "    <tr>\n",
              "      <th>2022-01-03</th>\n",
              "      <td>103.922</td>\n",
              "      <td>104.823</td>\n",
              "      <td>106.125</td>\n",
              "      <td>103.413</td>\n",
              "      <td>11130000.0</td>\n",
              "      <td>-0.86</td>\n",
              "    </tr>\n",
              "    <tr>\n",
              "      <th>2022-01-04</th>\n",
              "      <td>103.514</td>\n",
              "      <td>103.922</td>\n",
              "      <td>104.276</td>\n",
              "      <td>103.096</td>\n",
              "      <td>11490000.0</td>\n",
              "      <td>-0.39</td>\n",
              "    </tr>\n",
              "    <tr>\n",
              "      <th>2022-01-05</th>\n",
              "      <td>101.006</td>\n",
              "      <td>103.514</td>\n",
              "      <td>103.514</td>\n",
              "      <td>100.850</td>\n",
              "      <td>12880000.0</td>\n",
              "      <td>-2.42</td>\n",
              "    </tr>\n",
              "    <tr>\n",
              "      <th>2022-01-06</th>\n",
              "      <td>101.561</td>\n",
              "      <td>101.006</td>\n",
              "      <td>102.235</td>\n",
              "      <td>101.000</td>\n",
              "      <td>11750000.0</td>\n",
              "      <td>0.55</td>\n",
              "    </tr>\n",
              "    <tr>\n",
              "      <th>2022-01-07</th>\n",
              "      <td>102.719</td>\n",
              "      <td>101.561</td>\n",
              "      <td>102.719</td>\n",
              "      <td>101.104</td>\n",
              "      <td>11730000.0</td>\n",
              "      <td>1.14</td>\n",
              "    </tr>\n",
              "  </tbody>\n",
              "</table>\n",
              "</div>\n",
              "    <div class=\"colab-df-buttons\">\n",
              "\n",
              "  <div class=\"colab-df-container\">\n",
              "    <button class=\"colab-df-convert\" onclick=\"convertToInteractive('df-3a5f5783-6a6c-461b-a52e-4ec1c070b840')\"\n",
              "            title=\"Convert this dataframe to an interactive table.\"\n",
              "            style=\"display:none;\">\n",
              "\n",
              "  <svg xmlns=\"http://www.w3.org/2000/svg\" height=\"24px\" viewBox=\"0 -960 960 960\">\n",
              "    <path d=\"M120-120v-720h720v720H120Zm60-500h600v-160H180v160Zm220 220h160v-160H400v160Zm0 220h160v-160H400v160ZM180-400h160v-160H180v160Zm440 0h160v-160H620v160ZM180-180h160v-160H180v160Zm440 0h160v-160H620v160Z\"/>\n",
              "  </svg>\n",
              "    </button>\n",
              "\n",
              "  <style>\n",
              "    .colab-df-container {\n",
              "      display:flex;\n",
              "      gap: 12px;\n",
              "    }\n",
              "\n",
              "    .colab-df-convert {\n",
              "      background-color: #E8F0FE;\n",
              "      border: none;\n",
              "      border-radius: 50%;\n",
              "      cursor: pointer;\n",
              "      display: none;\n",
              "      fill: #1967D2;\n",
              "      height: 32px;\n",
              "      padding: 0 0 0 0;\n",
              "      width: 32px;\n",
              "    }\n",
              "\n",
              "    .colab-df-convert:hover {\n",
              "      background-color: #E2EBFA;\n",
              "      box-shadow: 0px 1px 2px rgba(60, 64, 67, 0.3), 0px 1px 3px 1px rgba(60, 64, 67, 0.15);\n",
              "      fill: #174EA6;\n",
              "    }\n",
              "\n",
              "    .colab-df-buttons div {\n",
              "      margin-bottom: 4px;\n",
              "    }\n",
              "\n",
              "    [theme=dark] .colab-df-convert {\n",
              "      background-color: #3B4455;\n",
              "      fill: #D2E3FC;\n",
              "    }\n",
              "\n",
              "    [theme=dark] .colab-df-convert:hover {\n",
              "      background-color: #434B5C;\n",
              "      box-shadow: 0px 1px 3px 1px rgba(0, 0, 0, 0.15);\n",
              "      filter: drop-shadow(0px 1px 2px rgba(0, 0, 0, 0.3));\n",
              "      fill: #FFFFFF;\n",
              "    }\n",
              "  </style>\n",
              "\n",
              "    <script>\n",
              "      const buttonEl =\n",
              "        document.querySelector('#df-3a5f5783-6a6c-461b-a52e-4ec1c070b840 button.colab-df-convert');\n",
              "      buttonEl.style.display =\n",
              "        google.colab.kernel.accessAllowed ? 'block' : 'none';\n",
              "\n",
              "      async function convertToInteractive(key) {\n",
              "        const element = document.querySelector('#df-3a5f5783-6a6c-461b-a52e-4ec1c070b840');\n",
              "        const dataTable =\n",
              "          await google.colab.kernel.invokeFunction('convertToInteractive',\n",
              "                                                    [key], {});\n",
              "        if (!dataTable) return;\n",
              "\n",
              "        const docLinkHtml = 'Like what you see? Visit the ' +\n",
              "          '<a target=\"_blank\" href=https://colab.research.google.com/notebooks/data_table.ipynb>data table notebook</a>'\n",
              "          + ' to learn more about interactive tables.';\n",
              "        element.innerHTML = '';\n",
              "        dataTable['output_type'] = 'display_data';\n",
              "        await google.colab.output.renderOutput(dataTable, element);\n",
              "        const docLink = document.createElement('div');\n",
              "        docLink.innerHTML = docLinkHtml;\n",
              "        element.appendChild(docLink);\n",
              "      }\n",
              "    </script>\n",
              "  </div>\n",
              "\n",
              "\n",
              "    <div id=\"df-c04e584b-e3c4-42e2-9a80-e980a316db18\">\n",
              "      <button class=\"colab-df-quickchart\" onclick=\"quickchart('df-c04e584b-e3c4-42e2-9a80-e980a316db18')\"\n",
              "                title=\"Suggest charts\"\n",
              "                style=\"display:none;\">\n",
              "\n",
              "<svg xmlns=\"http://www.w3.org/2000/svg\" height=\"24px\"viewBox=\"0 0 24 24\"\n",
              "     width=\"24px\">\n",
              "    <g>\n",
              "        <path d=\"M19 3H5c-1.1 0-2 .9-2 2v14c0 1.1.9 2 2 2h14c1.1 0 2-.9 2-2V5c0-1.1-.9-2-2-2zM9 17H7v-7h2v7zm4 0h-2V7h2v10zm4 0h-2v-4h2v4z\"/>\n",
              "    </g>\n",
              "</svg>\n",
              "      </button>\n",
              "\n",
              "<style>\n",
              "  .colab-df-quickchart {\n",
              "      --bg-color: #E8F0FE;\n",
              "      --fill-color: #1967D2;\n",
              "      --hover-bg-color: #E2EBFA;\n",
              "      --hover-fill-color: #174EA6;\n",
              "      --disabled-fill-color: #AAA;\n",
              "      --disabled-bg-color: #DDD;\n",
              "  }\n",
              "\n",
              "  [theme=dark] .colab-df-quickchart {\n",
              "      --bg-color: #3B4455;\n",
              "      --fill-color: #D2E3FC;\n",
              "      --hover-bg-color: #434B5C;\n",
              "      --hover-fill-color: #FFFFFF;\n",
              "      --disabled-bg-color: #3B4455;\n",
              "      --disabled-fill-color: #666;\n",
              "  }\n",
              "\n",
              "  .colab-df-quickchart {\n",
              "    background-color: var(--bg-color);\n",
              "    border: none;\n",
              "    border-radius: 50%;\n",
              "    cursor: pointer;\n",
              "    display: none;\n",
              "    fill: var(--fill-color);\n",
              "    height: 32px;\n",
              "    padding: 0;\n",
              "    width: 32px;\n",
              "  }\n",
              "\n",
              "  .colab-df-quickchart:hover {\n",
              "    background-color: var(--hover-bg-color);\n",
              "    box-shadow: 0 1px 2px rgba(60, 64, 67, 0.3), 0 1px 3px 1px rgba(60, 64, 67, 0.15);\n",
              "    fill: var(--button-hover-fill-color);\n",
              "  }\n",
              "\n",
              "  .colab-df-quickchart-complete:disabled,\n",
              "  .colab-df-quickchart-complete:disabled:hover {\n",
              "    background-color: var(--disabled-bg-color);\n",
              "    fill: var(--disabled-fill-color);\n",
              "    box-shadow: none;\n",
              "  }\n",
              "\n",
              "  .colab-df-spinner {\n",
              "    border: 2px solid var(--fill-color);\n",
              "    border-color: transparent;\n",
              "    border-bottom-color: var(--fill-color);\n",
              "    animation:\n",
              "      spin 1s steps(1) infinite;\n",
              "  }\n",
              "\n",
              "  @keyframes spin {\n",
              "    0% {\n",
              "      border-color: transparent;\n",
              "      border-bottom-color: var(--fill-color);\n",
              "      border-left-color: var(--fill-color);\n",
              "    }\n",
              "    20% {\n",
              "      border-color: transparent;\n",
              "      border-left-color: var(--fill-color);\n",
              "      border-top-color: var(--fill-color);\n",
              "    }\n",
              "    30% {\n",
              "      border-color: transparent;\n",
              "      border-left-color: var(--fill-color);\n",
              "      border-top-color: var(--fill-color);\n",
              "      border-right-color: var(--fill-color);\n",
              "    }\n",
              "    40% {\n",
              "      border-color: transparent;\n",
              "      border-right-color: var(--fill-color);\n",
              "      border-top-color: var(--fill-color);\n",
              "    }\n",
              "    60% {\n",
              "      border-color: transparent;\n",
              "      border-right-color: var(--fill-color);\n",
              "    }\n",
              "    80% {\n",
              "      border-color: transparent;\n",
              "      border-right-color: var(--fill-color);\n",
              "      border-bottom-color: var(--fill-color);\n",
              "    }\n",
              "    90% {\n",
              "      border-color: transparent;\n",
              "      border-bottom-color: var(--fill-color);\n",
              "    }\n",
              "  }\n",
              "</style>\n",
              "\n",
              "      <script>\n",
              "        async function quickchart(key) {\n",
              "          const quickchartButtonEl =\n",
              "            document.querySelector('#' + key + ' button');\n",
              "          quickchartButtonEl.disabled = true;  // To prevent multiple clicks.\n",
              "          quickchartButtonEl.classList.add('colab-df-spinner');\n",
              "          try {\n",
              "            const charts = await google.colab.kernel.invokeFunction(\n",
              "                'suggestCharts', [key], {});\n",
              "          } catch (error) {\n",
              "            console.error('Error during call to suggestCharts:', error);\n",
              "          }\n",
              "          quickchartButtonEl.classList.remove('colab-df-spinner');\n",
              "          quickchartButtonEl.classList.add('colab-df-quickchart-complete');\n",
              "        }\n",
              "        (() => {\n",
              "          let quickchartButtonEl =\n",
              "            document.querySelector('#df-c04e584b-e3c4-42e2-9a80-e980a316db18 button');\n",
              "          quickchartButtonEl.style.display =\n",
              "            google.colab.kernel.accessAllowed ? 'block' : 'none';\n",
              "        })();\n",
              "      </script>\n",
              "    </div>\n",
              "\n",
              "    </div>\n",
              "  </div>\n"
            ],
            "application/vnd.google.colaboratory.intrinsic+json": {
              "type": "dataframe",
              "variable_name": "df",
              "summary": "{\n  \"name\": \"df\",\n  \"rows\": 937,\n  \"fields\": [\n    {\n      \"column\": \"data\",\n      \"properties\": {\n        \"dtype\": \"date\",\n        \"min\": \"2022-01-03 00:00:00\",\n        \"max\": \"2025-09-30 00:00:00\",\n        \"num_unique_values\": 937,\n        \"samples\": [\n          \"2023-04-14 00:00:00\",\n          \"2022-04-13 00:00:00\",\n          \"2022-11-01 00:00:00\"\n        ],\n        \"semantic_type\": \"\",\n        \"description\": \"\"\n      }\n    },\n    {\n      \"column\": \"ultimo\",\n      \"properties\": {\n        \"dtype\": \"number\",\n        \"std\": 11.36477007113233,\n        \"min\": 96.121,\n        \"max\": 146.492,\n        \"num_unique_values\": 926,\n        \"samples\": [\n          104.367,\n          122.899,\n          113.899\n        ],\n        \"semantic_type\": \"\",\n        \"description\": \"\"\n      }\n    },\n    {\n      \"column\": \"abertura\",\n      \"properties\": {\n        \"dtype\": \"number\",\n        \"std\": 11.345197861808899,\n        \"min\": 96.119,\n        \"max\": 146.492,\n        \"num_unique_values\": 926,\n        \"samples\": [\n          106.149,\n          122.899,\n          113.643\n        ],\n        \"semantic_type\": \"\",\n        \"description\": \"\"\n      }\n    },\n    {\n      \"column\": \"max\",\n      \"properties\": {\n        \"dtype\": \"number\",\n        \"std\": 11.271592478464774,\n        \"min\": 96.971,\n        \"max\": 147.578,\n        \"num_unique_values\": 924,\n        \"samples\": [\n          104.822,\n          141.564,\n          114.828\n        ],\n        \"semantic_type\": \"\",\n        \"description\": \"\"\n      }\n    },\n    {\n      \"column\": \"min\",\n      \"properties\": {\n        \"dtype\": \"number\",\n        \"std\": 11.460564874197136,\n        \"min\": 95.267,\n        \"max\": 146.067,\n        \"num_unique_values\": 927,\n        \"samples\": [\n          110.103,\n          114.162,\n          113.358\n        ],\n        \"semantic_type\": \"\",\n        \"description\": \"\"\n      }\n    },\n    {\n      \"column\": \"volume\",\n      \"properties\": {\n        \"dtype\": \"number\",\n        \"std\": 3952608401.4658613,\n        \"min\": 4330000.0,\n        \"max\": 24870000000.0,\n        \"num_unique_values\": 700,\n        \"samples\": [\n          12610000.0,\n          9250000.0,\n          9370000.0\n        ],\n        \"semantic_type\": \"\",\n        \"description\": \"\"\n      }\n    },\n    {\n      \"column\": \"var\",\n      \"properties\": {\n        \"dtype\": \"number\",\n        \"std\": 1.0677114339643676,\n        \"min\": -3.35,\n        \"max\": 5.54,\n        \"num_unique_values\": 386,\n        \"samples\": [\n          -0.64,\n          0.68,\n          -0.81\n        ],\n        \"semantic_type\": \"\",\n        \"description\": \"\"\n      }\n    }\n  ]\n}"
            }
          },
          "metadata": {},
          "execution_count": 21
        }
      ]
    },
    {
      "cell_type": "markdown",
      "metadata": {
        "id": "2rmFwHkGcQYt"
      },
      "source": [
        "#### **Tarefa 1:** Realizar a análise estatística descritiva (*.describe()*) das variáveis numéricas"
      ]
    },
    {
      "cell_type": "code",
      "execution_count": 22,
      "metadata": {
        "colab": {
          "base_uri": "https://localhost:8080/",
          "height": 238
        },
        "id": "S6FOyjUelgL9",
        "outputId": "e2db5f30-2c68-4d51-d022-57eccc9acab3"
      },
      "outputs": [
        {
          "output_type": "execute_result",
          "data": {
            "text/plain": [
              "          count          mean           std         min         25%  \\\n",
              "ultimo    937.0  1.205500e+02  1.136000e+01       96.12      111.44   \n",
              "abertura  937.0  1.205100e+02  1.135000e+01       96.12      111.36   \n",
              "max       937.0  1.214100e+02  1.127000e+01       96.97      112.50   \n",
              "min       937.0  1.196700e+02  1.146000e+01       95.27      110.32   \n",
              "volume    937.0  1.887088e+09  3.952608e+09  4330000.00  9920000.00   \n",
              "var       937.0  4.000000e-02  1.070000e+00       -3.35       -0.58   \n",
              "\n",
              "                  50%          75%           max  \n",
              "ultimo         120.26       129.13  1.464900e+02  \n",
              "abertura       120.26       129.12  1.464900e+02  \n",
              "max            121.16       129.79  1.475800e+02  \n",
              "min            119.71       128.15  1.460700e+02  \n",
              "volume    12180000.00  16390000.00  2.487000e+10  \n",
              "var              0.03         0.70  5.540000e+00  "
            ],
            "text/html": [
              "\n",
              "  <div id=\"df-066096de-1da5-4936-9493-e8e375c29887\" class=\"colab-df-container\">\n",
              "    <div>\n",
              "<style scoped>\n",
              "    .dataframe tbody tr th:only-of-type {\n",
              "        vertical-align: middle;\n",
              "    }\n",
              "\n",
              "    .dataframe tbody tr th {\n",
              "        vertical-align: top;\n",
              "    }\n",
              "\n",
              "    .dataframe thead th {\n",
              "        text-align: right;\n",
              "    }\n",
              "</style>\n",
              "<table border=\"1\" class=\"dataframe\">\n",
              "  <thead>\n",
              "    <tr style=\"text-align: right;\">\n",
              "      <th></th>\n",
              "      <th>count</th>\n",
              "      <th>mean</th>\n",
              "      <th>std</th>\n",
              "      <th>min</th>\n",
              "      <th>25%</th>\n",
              "      <th>50%</th>\n",
              "      <th>75%</th>\n",
              "      <th>max</th>\n",
              "    </tr>\n",
              "  </thead>\n",
              "  <tbody>\n",
              "    <tr>\n",
              "      <th>ultimo</th>\n",
              "      <td>937.0</td>\n",
              "      <td>1.205500e+02</td>\n",
              "      <td>1.136000e+01</td>\n",
              "      <td>96.12</td>\n",
              "      <td>111.44</td>\n",
              "      <td>120.26</td>\n",
              "      <td>129.13</td>\n",
              "      <td>1.464900e+02</td>\n",
              "    </tr>\n",
              "    <tr>\n",
              "      <th>abertura</th>\n",
              "      <td>937.0</td>\n",
              "      <td>1.205100e+02</td>\n",
              "      <td>1.135000e+01</td>\n",
              "      <td>96.12</td>\n",
              "      <td>111.36</td>\n",
              "      <td>120.26</td>\n",
              "      <td>129.12</td>\n",
              "      <td>1.464900e+02</td>\n",
              "    </tr>\n",
              "    <tr>\n",
              "      <th>max</th>\n",
              "      <td>937.0</td>\n",
              "      <td>1.214100e+02</td>\n",
              "      <td>1.127000e+01</td>\n",
              "      <td>96.97</td>\n",
              "      <td>112.50</td>\n",
              "      <td>121.16</td>\n",
              "      <td>129.79</td>\n",
              "      <td>1.475800e+02</td>\n",
              "    </tr>\n",
              "    <tr>\n",
              "      <th>min</th>\n",
              "      <td>937.0</td>\n",
              "      <td>1.196700e+02</td>\n",
              "      <td>1.146000e+01</td>\n",
              "      <td>95.27</td>\n",
              "      <td>110.32</td>\n",
              "      <td>119.71</td>\n",
              "      <td>128.15</td>\n",
              "      <td>1.460700e+02</td>\n",
              "    </tr>\n",
              "    <tr>\n",
              "      <th>volume</th>\n",
              "      <td>937.0</td>\n",
              "      <td>1.887088e+09</td>\n",
              "      <td>3.952608e+09</td>\n",
              "      <td>4330000.00</td>\n",
              "      <td>9920000.00</td>\n",
              "      <td>12180000.00</td>\n",
              "      <td>16390000.00</td>\n",
              "      <td>2.487000e+10</td>\n",
              "    </tr>\n",
              "    <tr>\n",
              "      <th>var</th>\n",
              "      <td>937.0</td>\n",
              "      <td>4.000000e-02</td>\n",
              "      <td>1.070000e+00</td>\n",
              "      <td>-3.35</td>\n",
              "      <td>-0.58</td>\n",
              "      <td>0.03</td>\n",
              "      <td>0.70</td>\n",
              "      <td>5.540000e+00</td>\n",
              "    </tr>\n",
              "  </tbody>\n",
              "</table>\n",
              "</div>\n",
              "    <div class=\"colab-df-buttons\">\n",
              "\n",
              "  <div class=\"colab-df-container\">\n",
              "    <button class=\"colab-df-convert\" onclick=\"convertToInteractive('df-066096de-1da5-4936-9493-e8e375c29887')\"\n",
              "            title=\"Convert this dataframe to an interactive table.\"\n",
              "            style=\"display:none;\">\n",
              "\n",
              "  <svg xmlns=\"http://www.w3.org/2000/svg\" height=\"24px\" viewBox=\"0 -960 960 960\">\n",
              "    <path d=\"M120-120v-720h720v720H120Zm60-500h600v-160H180v160Zm220 220h160v-160H400v160Zm0 220h160v-160H400v160ZM180-400h160v-160H180v160Zm440 0h160v-160H620v160ZM180-180h160v-160H180v160Zm440 0h160v-160H620v160Z\"/>\n",
              "  </svg>\n",
              "    </button>\n",
              "\n",
              "  <style>\n",
              "    .colab-df-container {\n",
              "      display:flex;\n",
              "      gap: 12px;\n",
              "    }\n",
              "\n",
              "    .colab-df-convert {\n",
              "      background-color: #E8F0FE;\n",
              "      border: none;\n",
              "      border-radius: 50%;\n",
              "      cursor: pointer;\n",
              "      display: none;\n",
              "      fill: #1967D2;\n",
              "      height: 32px;\n",
              "      padding: 0 0 0 0;\n",
              "      width: 32px;\n",
              "    }\n",
              "\n",
              "    .colab-df-convert:hover {\n",
              "      background-color: #E2EBFA;\n",
              "      box-shadow: 0px 1px 2px rgba(60, 64, 67, 0.3), 0px 1px 3px 1px rgba(60, 64, 67, 0.15);\n",
              "      fill: #174EA6;\n",
              "    }\n",
              "\n",
              "    .colab-df-buttons div {\n",
              "      margin-bottom: 4px;\n",
              "    }\n",
              "\n",
              "    [theme=dark] .colab-df-convert {\n",
              "      background-color: #3B4455;\n",
              "      fill: #D2E3FC;\n",
              "    }\n",
              "\n",
              "    [theme=dark] .colab-df-convert:hover {\n",
              "      background-color: #434B5C;\n",
              "      box-shadow: 0px 1px 3px 1px rgba(0, 0, 0, 0.15);\n",
              "      filter: drop-shadow(0px 1px 2px rgba(0, 0, 0, 0.3));\n",
              "      fill: #FFFFFF;\n",
              "    }\n",
              "  </style>\n",
              "\n",
              "    <script>\n",
              "      const buttonEl =\n",
              "        document.querySelector('#df-066096de-1da5-4936-9493-e8e375c29887 button.colab-df-convert');\n",
              "      buttonEl.style.display =\n",
              "        google.colab.kernel.accessAllowed ? 'block' : 'none';\n",
              "\n",
              "      async function convertToInteractive(key) {\n",
              "        const element = document.querySelector('#df-066096de-1da5-4936-9493-e8e375c29887');\n",
              "        const dataTable =\n",
              "          await google.colab.kernel.invokeFunction('convertToInteractive',\n",
              "                                                    [key], {});\n",
              "        if (!dataTable) return;\n",
              "\n",
              "        const docLinkHtml = 'Like what you see? Visit the ' +\n",
              "          '<a target=\"_blank\" href=https://colab.research.google.com/notebooks/data_table.ipynb>data table notebook</a>'\n",
              "          + ' to learn more about interactive tables.';\n",
              "        element.innerHTML = '';\n",
              "        dataTable['output_type'] = 'display_data';\n",
              "        await google.colab.output.renderOutput(dataTable, element);\n",
              "        const docLink = document.createElement('div');\n",
              "        docLink.innerHTML = docLinkHtml;\n",
              "        element.appendChild(docLink);\n",
              "      }\n",
              "    </script>\n",
              "  </div>\n",
              "\n",
              "\n",
              "    <div id=\"df-f7f2613c-9426-49fe-b61d-b69cc89867ce\">\n",
              "      <button class=\"colab-df-quickchart\" onclick=\"quickchart('df-f7f2613c-9426-49fe-b61d-b69cc89867ce')\"\n",
              "                title=\"Suggest charts\"\n",
              "                style=\"display:none;\">\n",
              "\n",
              "<svg xmlns=\"http://www.w3.org/2000/svg\" height=\"24px\"viewBox=\"0 0 24 24\"\n",
              "     width=\"24px\">\n",
              "    <g>\n",
              "        <path d=\"M19 3H5c-1.1 0-2 .9-2 2v14c0 1.1.9 2 2 2h14c1.1 0 2-.9 2-2V5c0-1.1-.9-2-2-2zM9 17H7v-7h2v7zm4 0h-2V7h2v10zm4 0h-2v-4h2v4z\"/>\n",
              "    </g>\n",
              "</svg>\n",
              "      </button>\n",
              "\n",
              "<style>\n",
              "  .colab-df-quickchart {\n",
              "      --bg-color: #E8F0FE;\n",
              "      --fill-color: #1967D2;\n",
              "      --hover-bg-color: #E2EBFA;\n",
              "      --hover-fill-color: #174EA6;\n",
              "      --disabled-fill-color: #AAA;\n",
              "      --disabled-bg-color: #DDD;\n",
              "  }\n",
              "\n",
              "  [theme=dark] .colab-df-quickchart {\n",
              "      --bg-color: #3B4455;\n",
              "      --fill-color: #D2E3FC;\n",
              "      --hover-bg-color: #434B5C;\n",
              "      --hover-fill-color: #FFFFFF;\n",
              "      --disabled-bg-color: #3B4455;\n",
              "      --disabled-fill-color: #666;\n",
              "  }\n",
              "\n",
              "  .colab-df-quickchart {\n",
              "    background-color: var(--bg-color);\n",
              "    border: none;\n",
              "    border-radius: 50%;\n",
              "    cursor: pointer;\n",
              "    display: none;\n",
              "    fill: var(--fill-color);\n",
              "    height: 32px;\n",
              "    padding: 0;\n",
              "    width: 32px;\n",
              "  }\n",
              "\n",
              "  .colab-df-quickchart:hover {\n",
              "    background-color: var(--hover-bg-color);\n",
              "    box-shadow: 0 1px 2px rgba(60, 64, 67, 0.3), 0 1px 3px 1px rgba(60, 64, 67, 0.15);\n",
              "    fill: var(--button-hover-fill-color);\n",
              "  }\n",
              "\n",
              "  .colab-df-quickchart-complete:disabled,\n",
              "  .colab-df-quickchart-complete:disabled:hover {\n",
              "    background-color: var(--disabled-bg-color);\n",
              "    fill: var(--disabled-fill-color);\n",
              "    box-shadow: none;\n",
              "  }\n",
              "\n",
              "  .colab-df-spinner {\n",
              "    border: 2px solid var(--fill-color);\n",
              "    border-color: transparent;\n",
              "    border-bottom-color: var(--fill-color);\n",
              "    animation:\n",
              "      spin 1s steps(1) infinite;\n",
              "  }\n",
              "\n",
              "  @keyframes spin {\n",
              "    0% {\n",
              "      border-color: transparent;\n",
              "      border-bottom-color: var(--fill-color);\n",
              "      border-left-color: var(--fill-color);\n",
              "    }\n",
              "    20% {\n",
              "      border-color: transparent;\n",
              "      border-left-color: var(--fill-color);\n",
              "      border-top-color: var(--fill-color);\n",
              "    }\n",
              "    30% {\n",
              "      border-color: transparent;\n",
              "      border-left-color: var(--fill-color);\n",
              "      border-top-color: var(--fill-color);\n",
              "      border-right-color: var(--fill-color);\n",
              "    }\n",
              "    40% {\n",
              "      border-color: transparent;\n",
              "      border-right-color: var(--fill-color);\n",
              "      border-top-color: var(--fill-color);\n",
              "    }\n",
              "    60% {\n",
              "      border-color: transparent;\n",
              "      border-right-color: var(--fill-color);\n",
              "    }\n",
              "    80% {\n",
              "      border-color: transparent;\n",
              "      border-right-color: var(--fill-color);\n",
              "      border-bottom-color: var(--fill-color);\n",
              "    }\n",
              "    90% {\n",
              "      border-color: transparent;\n",
              "      border-bottom-color: var(--fill-color);\n",
              "    }\n",
              "  }\n",
              "</style>\n",
              "\n",
              "      <script>\n",
              "        async function quickchart(key) {\n",
              "          const quickchartButtonEl =\n",
              "            document.querySelector('#' + key + ' button');\n",
              "          quickchartButtonEl.disabled = true;  // To prevent multiple clicks.\n",
              "          quickchartButtonEl.classList.add('colab-df-spinner');\n",
              "          try {\n",
              "            const charts = await google.colab.kernel.invokeFunction(\n",
              "                'suggestCharts', [key], {});\n",
              "          } catch (error) {\n",
              "            console.error('Error during call to suggestCharts:', error);\n",
              "          }\n",
              "          quickchartButtonEl.classList.remove('colab-df-spinner');\n",
              "          quickchartButtonEl.classList.add('colab-df-quickchart-complete');\n",
              "        }\n",
              "        (() => {\n",
              "          let quickchartButtonEl =\n",
              "            document.querySelector('#df-f7f2613c-9426-49fe-b61d-b69cc89867ce button');\n",
              "          quickchartButtonEl.style.display =\n",
              "            google.colab.kernel.accessAllowed ? 'block' : 'none';\n",
              "        })();\n",
              "      </script>\n",
              "    </div>\n",
              "\n",
              "    </div>\n",
              "  </div>\n"
            ],
            "application/vnd.google.colaboratory.intrinsic+json": {
              "type": "dataframe",
              "summary": "{\n  \"name\": \"df\",\n  \"rows\": 6,\n  \"fields\": [\n    {\n      \"column\": \"count\",\n      \"properties\": {\n        \"dtype\": \"number\",\n        \"std\": 0.0,\n        \"min\": 937.0,\n        \"max\": 937.0,\n        \"num_unique_values\": 1,\n        \"samples\": [\n          937.0\n        ],\n        \"semantic_type\": \"\",\n        \"description\": \"\"\n      }\n    },\n    {\n      \"column\": \"mean\",\n      \"properties\": {\n        \"dtype\": \"number\",\n        \"std\": 770400251.1191751,\n        \"min\": 0.04,\n        \"max\": 1887087609.39,\n        \"num_unique_values\": 6,\n        \"samples\": [\n          120.55\n        ],\n        \"semantic_type\": \"\",\n        \"description\": \"\"\n      }\n    },\n    {\n      \"column\": \"std\",\n      \"properties\": {\n        \"dtype\": \"number\",\n        \"std\": 1613645618.9757042,\n        \"min\": 1.07,\n        \"max\": 3952608401.47,\n        \"num_unique_values\": 6,\n        \"samples\": [\n          11.36\n        ],\n        \"semantic_type\": \"\",\n        \"description\": \"\"\n      }\n    },\n    {\n      \"column\": \"min\",\n      \"properties\": {\n        \"dtype\": \"number\",\n        \"std\": 1767683.9790222046,\n        \"min\": -3.35,\n        \"max\": 4330000.0,\n        \"num_unique_values\": 5,\n        \"samples\": [\n          96.97\n        ],\n        \"semantic_type\": \"\",\n        \"description\": \"\"\n      }\n    },\n    {\n      \"column\": \"25%\",\n      \"properties\": {\n        \"dtype\": \"number\",\n        \"std\": 4049786.704285472,\n        \"min\": -0.58,\n        \"max\": 9920000.0,\n        \"num_unique_values\": 6,\n        \"samples\": [\n          111.44\n        ],\n        \"semantic_type\": \"\",\n        \"description\": \"\"\n      }\n    },\n    {\n      \"column\": \"50%\",\n      \"properties\": {\n        \"dtype\": \"number\",\n        \"std\": 4972424.87030438,\n        \"min\": 0.03,\n        \"max\": 12180000.0,\n        \"num_unique_values\": 5,\n        \"samples\": [\n          121.16\n        ],\n        \"semantic_type\": \"\",\n        \"description\": \"\"\n      }\n    },\n    {\n      \"column\": \"75%\",\n      \"properties\": {\n        \"dtype\": \"number\",\n        \"std\": 6691147.277007918,\n        \"min\": 0.7,\n        \"max\": 16390000.0,\n        \"num_unique_values\": 6,\n        \"samples\": [\n          129.13\n        ],\n        \"semantic_type\": \"\",\n        \"description\": \"\"\n      }\n    },\n    {\n      \"column\": \"max\",\n      \"properties\": {\n        \"dtype\": \"number\",\n        \"std\": 10153134935.485796,\n        \"min\": 5.54,\n        \"max\": 24870000000.0,\n        \"num_unique_values\": 5,\n        \"samples\": [\n          147.58\n        ],\n        \"semantic_type\": \"\",\n        \"description\": \"\"\n      }\n    }\n  ]\n}"
            }
          },
          "metadata": {},
          "execution_count": 22
        }
      ],
      "source": [
        "# Análise estatística\n",
        "df.describe().T.round(2)"
      ]
    },
    {
      "cell_type": "markdown",
      "source": [
        "**Insights da análise estatística**\n",
        "* Preços (último, abertura, máxima, mínima)\n",
        "    * A média está em torno de 120.000, o que sugere estabilidade\n",
        "    * A volatilidade, com um desvio padrão de +- 11.300 é relativamente alta em relação à média, o que indica variações relevantes\n",
        "    * Diferença de cerca de 50.000 entre mínimo e máximo, o que reflete choques externos significativos\n",
        "\n",
        "* Volume\n",
        "  * Desvio padrão muito elevado\n",
        "  * Assimetria forte (min = 4,3 milhões, max = 24,8 bilhões)\n",
        "\n",
        "* Variação (var)\n",
        "  * Desvio padrão de 1,07% indica pouca variação durante o dia\n",
        "  * Min = -3,35% e max = +5,54% indica que existem dias de forte volatilidade, mas são raros\n",
        "\n"
      ],
      "metadata": {
        "id": "l8GtpB9G-1uS"
      }
    },
    {
      "cell_type": "markdown",
      "metadata": {
        "id": "WQlEisJFcYgH"
      },
      "source": [
        "#### **Tarefa 2:** Visualizar a série temporal do preço de fechamento (gráfico de linhas) para identificar tendências e padrões"
      ]
    },
    {
      "cell_type": "code",
      "source": [
        "import matplotlib.pyplot as plt"
      ],
      "metadata": {
        "id": "Gib95QSwB6Oc"
      },
      "execution_count": 23,
      "outputs": []
    },
    {
      "cell_type": "code",
      "source": [
        "plt.figure(figsize=(12,6))\n",
        "plt.plot(df.index, df['ultimo'], marker='o', linestyle='-', color='b')\n",
        "plt.title('Preço de Fechamento do IBOVESPA')\n",
        "plt.xlabel('Data')\n",
        "plt.ylabel('Preço de Fechamento')\n",
        "plt.grid(True, linestyle='--', alpha=0.6)\n",
        "plt.xticks(rotation=45)\n",
        "plt.tight_layout()\n",
        "plt.show()"
      ],
      "metadata": {
        "colab": {
          "base_uri": "https://localhost:8080/",
          "height": 607
        },
        "id": "dhgXg6FJB625",
        "outputId": "f5fac37a-fb41-49d2-cf49-b6c7c77d2cd1"
      },
      "execution_count": 24,
      "outputs": [
        {
          "output_type": "display_data",
          "data": {
            "text/plain": [
              "<Figure size 1200x600 with 1 Axes>"
            ],
            "image/png": "[encoded data removed]"
          },
          "metadata": {}
        }
      ]
    },
    {
      "cell_type": "markdown",
      "source": [
        "* Tendência: Tendência positiva\n",
        "* Padrões e Sazonalidade: O gráfico segue o mesmo \"padrão\" de flutuação, se movendo para cima (tendência positiva)\n",
        "* Há algumas anomalias (ruídos/outliers)"
      ],
      "metadata": {
        "id": "yYA5Wd3OCuN0"
      }
    },
    {
      "cell_type": "markdown",
      "metadata": {
        "id": "TRaflQAPcgAl"
      },
      "source": [
        "#### **Tarefa 3:** Plotar histogramas e boxplots para entender a distribuição dos dados e identificar outliers"
      ]
    },
    {
      "cell_type": "code",
      "source": [
        "import seaborn as sns"
      ],
      "metadata": {
        "id": "I1ZhZ1P3DURy"
      },
      "execution_count": 25,
      "outputs": []
    },
    {
      "cell_type": "code",
      "source": [
        "# Histograma de valor de fechamento\n",
        "plt.figure(figsize=(10, 6))\n",
        "sns.histplot(data=df, x=df['ultimo'], kde=True, bins=50) # kde = sobrepõe a Estimativa de Densidade de Kernel, bins = controla a granularidade do histograma\n",
        "plt.title(f\"Distribuiçao do Preço de Fechamento do IBOVESPA\", fontsize=16)\n",
        "plt.xlabel(\"Preço de Fechamento\", fontsize=14)\n",
        "plt.ylabel(\"Frequência\", fontsize=14)\n",
        "plt.grid(axis='y', alpha=0.5)\n",
        "plt.show()"
      ],
      "metadata": {
        "colab": {
          "base_uri": "https://localhost:8080/",
          "height": 571
        },
        "id": "8kPp_GqUDXJV",
        "outputId": "e4a87654-2a66-4007-d494-46b117df98f1"
      },
      "execution_count": 26,
      "outputs": [
        {
          "output_type": "display_data",
          "data": {
            "text/plain": [
              "<Figure size 1000x600 with 1 Axes>"
            ],
            "image/png": "[encoded data removed]"
          },
          "metadata": {}
        }
      ]
    },
    {
      "cell_type": "markdown",
      "source": [
        "* Distribuição assimétrica, mostrando dois picos próximos a 110 e 130\n",
        "* Cauda mais longa para preços acima de 135 mil, indicando que, apesar de menos frequente, houve dias de forte valorização, o que puxa a média um pouco acima da mediana"
      ],
      "metadata": {
        "id": "vStwfD4nEOGF"
      }
    },
    {
      "cell_type": "code",
      "source": [
        "# Boxplot e Violin plot\n",
        "plt.figure(figsize=(10,8))\n",
        "\n",
        "ax = sns.violinplot(\n",
        "    data=df,\n",
        "    y=df['ultimo'],\n",
        "    inner=None,\n",
        "    color='lightgray',\n",
        "    alpha=0.6,\n",
        "    linewidth=1\n",
        ")\n",
        "\n",
        "sns.boxplot(\n",
        "    data=df,\n",
        "    y=df['ultimo'],\n",
        "    width=0.3,\n",
        "    color='skyblue',\n",
        "    boxprops={'edgecolor': 'darkblue', 'linewidth': 1.5},\n",
        "    medianprops={'color': 'red', 'linewidth': 2}, # Mediana em destaque\n",
        "    whiskerprops={'linewidth': 1.5},\n",
        "    capprops={'linewidth': 1.5},\n",
        "    ax=ax\n",
        ")\n",
        "\n",
        "plt.title(f\"Boxplot Sobreposto ao Violin Plot para Preço de Fechamento IBOVESPA\", fontsize=16)\n",
        "plt.ylabel(df['ultimo'], fontsize=14)\n",
        "plt.xlabel('Distribuição de Densidade', fontsize=14)\n",
        "plt.grid(axis='y', alpha=0.4)\n",
        "plt.show()"
      ],
      "metadata": {
        "colab": {
          "base_uri": "https://localhost:8080/",
          "height": 711
        },
        "id": "yVGuiSpRGQql",
        "outputId": "f141e85b-fc46-4f4a-ea6d-a35143192100"
      },
      "execution_count": 27,
      "outputs": [
        {
          "output_type": "display_data",
          "data": {
            "text/plain": [
              "<Figure size 1000x800 with 1 Axes>"
            ],
            "image/png": "[encoded data removed]"
          },
          "metadata": {}
        }
      ]
    },
    {
      "cell_type": "markdown",
      "metadata": {
        "id": "UWgj2uqWcluo"
      },
      "source": [
        "#### **Tarefa 4:** Criar a variável alvo (target), uma coluna que indica se o fechamento do dia seguinte for maior (1), menor (-1) ou igual (0) ao do dia atual"
      ]
    },
    {
      "cell_type": "code",
      "source": [
        "import numpy as np"
      ],
      "metadata": {
        "id": "xnLmiRJAIBCb"
      },
      "execution_count": 28,
      "outputs": []
    },
    {
      "cell_type": "code",
      "source": [
        "# Cálculo da diferença entre o valor atual e o valor anterior\n",
        "diferenca = df['ultimo'] - df['ultimo'].shift(1)\n",
        "\n",
        "# Criação da variável target\n",
        "df['tendencia_fechamento'] = np.sign(diferenca)"
      ],
      "metadata": {
        "id": "wxnj6Z0cIXjo"
      },
      "execution_count": 29,
      "outputs": []
    },
    {
      "cell_type": "code",
      "source": [
        "df[['tendencia_fechamento', 'ultimo']].head()"
      ],
      "metadata": {
        "colab": {
          "base_uri": "https://localhost:8080/",
          "height": 238
        },
        "id": "cG_3O50lI9BC",
        "outputId": "2103043b-bcd3-4ea4-f17f-dabf5dc310e7"
      },
      "execution_count": 30,
      "outputs": [
        {
          "output_type": "execute_result",
          "data": {
            "text/plain": [
              "            tendencia_fechamento   ultimo\n",
              "data                                     \n",
              "2022-01-03                   NaN  103.922\n",
              "2022-01-04                  -1.0  103.514\n",
              "2022-01-05                  -1.0  101.006\n",
              "2022-01-06                   1.0  101.561\n",
              "2022-01-07                   1.0  102.719"
            ],
            "text/html": [
              "\n",
              "  <div id=\"df-0584f968-72d4-4014-ae45-865de8f980b2\" class=\"colab-df-container\">\n",
              "    <div>\n",
              "<style scoped>\n",
              "    .dataframe tbody tr th:only-of-type {\n",
              "        vertical-align: middle;\n",
              "    }\n",
              "\n",
              "    .dataframe tbody tr th {\n",
              "        vertical-align: top;\n",
              "    }\n",
              "\n",
              "    .dataframe thead th {\n",
              "        text-align: right;\n",
              "    }\n",
              "</style>\n",
              "<table border=\"1\" class=\"dataframe\">\n",
              "  <thead>\n",
              "    <tr style=\"text-align: right;\">\n",
              "      <th></th>\n",
              "      <th>tendencia_fechamento</th>\n",
              "      <th>ultimo</th>\n",
              "    </tr>\n",
              "    <tr>\n",
              "      <th>data</th>\n",
              "      <th></th>\n",
              "      <th></th>\n",
              "    </tr>\n",
              "  </thead>\n",
              "  <tbody>\n",
              "    <tr>\n",
              "      <th>2022-01-03</th>\n",
              "      <td>NaN</td>\n",
              "      <td>103.922</td>\n",
              "    </tr>\n",
              "    <tr>\n",
              "      <th>2022-01-04</th>\n",
              "      <td>-1.0</td>\n",
              "      <td>103.514</td>\n",
              "    </tr>\n",
              "    <tr>\n",
              "      <th>2022-01-05</th>\n",
              "      <td>-1.0</td>\n",
              "      <td>101.006</td>\n",
              "    </tr>\n",
              "    <tr>\n",
              "      <th>2022-01-06</th>\n",
              "      <td>1.0</td>\n",
              "      <td>101.561</td>\n",
              "    </tr>\n",
              "    <tr>\n",
              "      <th>2022-01-07</th>\n",
              "      <td>1.0</td>\n",
              "      <td>102.719</td>\n",
              "    </tr>\n",
              "  </tbody>\n",
              "</table>\n",
              "</div>\n",
              "    <div class=\"colab-df-buttons\">\n",
              "\n",
              "  <div class=\"colab-df-container\">\n",
              "    <button class=\"colab-df-convert\" onclick=\"convertToInteractive('df-0584f968-72d4-4014-ae45-865de8f980b2')\"\n",
              "            title=\"Convert this dataframe to an interactive table.\"\n",
              "            style=\"display:none;\">\n",
              "\n",
              "  <svg xmlns=\"http://www.w3.org/2000/svg\" height=\"24px\" viewBox=\"0 -960 960 960\">\n",
              "    <path d=\"M120-120v-720h720v720H120Zm60-500h600v-160H180v160Zm220 220h160v-160H400v160Zm0 220h160v-160H400v160ZM180-400h160v-160H180v160Zm440 0h160v-160H620v160ZM180-180h160v-160H180v160Zm440 0h160v-160H620v160Z\"/>\n",
              "  </svg>\n",
              "    </button>\n",
              "\n",
              "  <style>\n",
              "    .colab-df-container {\n",
              "      display:flex;\n",
              "      gap: 12px;\n",
              "    }\n",
              "\n",
              "    .colab-df-convert {\n",
              "      background-color: #E8F0FE;\n",
              "      border: none;\n",
              "      border-radius: 50%;\n",
              "      cursor: pointer;\n",
              "      display: none;\n",
              "      fill: #1967D2;\n",
              "      height: 32px;\n",
              "      padding: 0 0 0 0;\n",
              "      width: 32px;\n",
              "    }\n",
              "\n",
              "    .colab-df-convert:hover {\n",
              "      background-color: #E2EBFA;\n",
              "      box-shadow: 0px 1px 2px rgba(60, 64, 67, 0.3), 0px 1px 3px 1px rgba(60, 64, 67, 0.15);\n",
              "      fill: #174EA6;\n",
              "    }\n",
              "\n",
              "    .colab-df-buttons div {\n",
              "      margin-bottom: 4px;\n",
              "    }\n",
              "\n",
              "    [theme=dark] .colab-df-convert {\n",
              "      background-color: #3B4455;\n",
              "      fill: #D2E3FC;\n",
              "    }\n",
              "\n",
              "    [theme=dark] .colab-df-convert:hover {\n",
              "      background-color: #434B5C;\n",
              "      box-shadow: 0px 1px 3px 1px rgba(0, 0, 0, 0.15);\n",
              "      filter: drop-shadow(0px 1px 2px rgba(0, 0, 0, 0.3));\n",
              "      fill: #FFFFFF;\n",
              "    }\n",
              "  </style>\n",
              "\n",
              "    <script>\n",
              "      const buttonEl =\n",
              "        document.querySelector('#df-0584f968-72d4-4014-ae45-865de8f980b2 button.colab-df-convert');\n",
              "      buttonEl.style.display =\n",
              "        google.colab.kernel.accessAllowed ? 'block' : 'none';\n",
              "\n",
              "      async function convertToInteractive(key) {\n",
              "        const element = document.querySelector('#df-0584f968-72d4-4014-ae45-865de8f980b2');\n",
              "        const dataTable =\n",
              "          await google.colab.kernel.invokeFunction('convertToInteractive',\n",
              "                                                    [key], {});\n",
              "        if (!dataTable) return;\n",
              "\n",
              "        const docLinkHtml = 'Like what you see? Visit the ' +\n",
              "          '<a target=\"_blank\" href=https://colab.research.google.com/notebooks/data_table.ipynb>data table notebook</a>'\n",
              "          + ' to learn more about interactive tables.';\n",
              "        element.innerHTML = '';\n",
              "        dataTable['output_type'] = 'display_data';\n",
              "        await google.colab.output.renderOutput(dataTable, element);\n",
              "        const docLink = document.createElement('div');\n",
              "        docLink.innerHTML = docLinkHtml;\n",
              "        element.appendChild(docLink);\n",
              "      }\n",
              "    </script>\n",
              "  </div>\n",
              "\n",
              "\n",
              "    <div id=\"df-0f45a684-63a3-40b8-a934-49b2e1d3e740\">\n",
              "      <button class=\"colab-df-quickchart\" onclick=\"quickchart('df-0f45a684-63a3-40b8-a934-49b2e1d3e740')\"\n",
              "                title=\"Suggest charts\"\n",
              "                style=\"display:none;\">\n",
              "\n",
              "<svg xmlns=\"http://www.w3.org/2000/svg\" height=\"24px\"viewBox=\"0 0 24 24\"\n",
              "     width=\"24px\">\n",
              "    <g>\n",
              "        <path d=\"M19 3H5c-1.1 0-2 .9-2 2v14c0 1.1.9 2 2 2h14c1.1 0 2-.9 2-2V5c0-1.1-.9-2-2-2zM9 17H7v-7h2v7zm4 0h-2V7h2v10zm4 0h-2v-4h2v4z\"/>\n",
              "    </g>\n",
              "</svg>\n",
              "      </button>\n",
              "\n",
              "<style>\n",
              "  .colab-df-quickchart {\n",
              "      --bg-color: #E8F0FE;\n",
              "      --fill-color: #1967D2;\n",
              "      --hover-bg-color: #E2EBFA;\n",
              "      --hover-fill-color: #174EA6;\n",
              "      --disabled-fill-color: #AAA;\n",
              "      --disabled-bg-color: #DDD;\n",
              "  }\n",
              "\n",
              "  [theme=dark] .colab-df-quickchart {\n",
              "      --bg-color: #3B4455;\n",
              "      --fill-color: #D2E3FC;\n",
              "      --hover-bg-color: #434B5C;\n",
              "      --hover-fill-color: #FFFFFF;\n",
              "      --disabled-bg-color: #3B4455;\n",
              "      --disabled-fill-color: #666;\n",
              "  }\n",
              "\n",
              "  .colab-df-quickchart {\n",
              "    background-color: var(--bg-color);\n",
              "    border: none;\n",
              "    border-radius: 50%;\n",
              "    cursor: pointer;\n",
              "    display: none;\n",
              "    fill: var(--fill-color);\n",
              "    height: 32px;\n",
              "    padding: 0;\n",
              "    width: 32px;\n",
              "  }\n",
              "\n",
              "  .colab-df-quickchart:hover {\n",
              "    background-color: var(--hover-bg-color);\n",
              "    box-shadow: 0 1px 2px rgba(60, 64, 67, 0.3), 0 1px 3px 1px rgba(60, 64, 67, 0.15);\n",
              "    fill: var(--button-hover-fill-color);\n",
              "  }\n",
              "\n",
              "  .colab-df-quickchart-complete:disabled,\n",
              "  .colab-df-quickchart-complete:disabled:hover {\n",
              "    background-color: var(--disabled-bg-color);\n",
              "    fill: var(--disabled-fill-color);\n",
              "    box-shadow: none;\n",
              "  }\n",
              "\n",
              "  .colab-df-spinner {\n",
              "    border: 2px solid var(--fill-color);\n",
              "    border-color: transparent;\n",
              "    border-bottom-color: var(--fill-color);\n",
              "    animation:\n",
              "      spin 1s steps(1) infinite;\n",
              "  }\n",
              "\n",
              "  @keyframes spin {\n",
              "    0% {\n",
              "      border-color: transparent;\n",
              "      border-bottom-color: var(--fill-color);\n",
              "      border-left-color: var(--fill-color);\n",
              "    }\n",
              "    20% {\n",
              "      border-color: transparent;\n",
              "      border-left-color: var(--fill-color);\n",
              "      border-top-color: var(--fill-color);\n",
              "    }\n",
              "    30% {\n",
              "      border-color: transparent;\n",
              "      border-left-color: var(--fill-color);\n",
              "      border-top-color: var(--fill-color);\n",
              "      border-right-color: var(--fill-color);\n",
              "    }\n",
              "    40% {\n",
              "      border-color: transparent;\n",
              "      border-right-color: var(--fill-color);\n",
              "      border-top-color: var(--fill-color);\n",
              "    }\n",
              "    60% {\n",
              "      border-color: transparent;\n",
              "      border-right-color: var(--fill-color);\n",
              "    }\n",
              "    80% {\n",
              "      border-color: transparent;\n",
              "      border-right-color: var(--fill-color);\n",
              "      border-bottom-color: var(--fill-color);\n",
              "    }\n",
              "    90% {\n",
              "      border-color: transparent;\n",
              "      border-bottom-color: var(--fill-color);\n",
              "    }\n",
              "  }\n",
              "</style>\n",
              "\n",
              "      <script>\n",
              "        async function quickchart(key) {\n",
              "          const quickchartButtonEl =\n",
              "            document.querySelector('#' + key + ' button');\n",
              "          quickchartButtonEl.disabled = true;  // To prevent multiple clicks.\n",
              "          quickchartButtonEl.classList.add('colab-df-spinner');\n",
              "          try {\n",
              "            const charts = await google.colab.kernel.invokeFunction(\n",
              "                'suggestCharts', [key], {});\n",
              "          } catch (error) {\n",
              "            console.error('Error during call to suggestCharts:', error);\n",
              "          }\n",
              "          quickchartButtonEl.classList.remove('colab-df-spinner');\n",
              "          quickchartButtonEl.classList.add('colab-df-quickchart-complete');\n",
              "        }\n",
              "        (() => {\n",
              "          let quickchartButtonEl =\n",
              "            document.querySelector('#df-0f45a684-63a3-40b8-a934-49b2e1d3e740 button');\n",
              "          quickchartButtonEl.style.display =\n",
              "            google.colab.kernel.accessAllowed ? 'block' : 'none';\n",
              "        })();\n",
              "      </script>\n",
              "    </div>\n",
              "\n",
              "    </div>\n",
              "  </div>\n"
            ],
            "application/vnd.google.colaboratory.intrinsic+json": {
              "type": "dataframe",
              "summary": "{\n  \"name\": \"df[['tendencia_fechamento', 'ultimo']]\",\n  \"rows\": 5,\n  \"fields\": [\n    {\n      \"column\": \"data\",\n      \"properties\": {\n        \"dtype\": \"date\",\n        \"min\": \"2022-01-03 00:00:00\",\n        \"max\": \"2022-01-07 00:00:00\",\n        \"num_unique_values\": 5,\n        \"samples\": [\n          \"2022-01-04 00:00:00\",\n          \"2022-01-07 00:00:00\",\n          \"2022-01-05 00:00:00\"\n        ],\n        \"semantic_type\": \"\",\n        \"description\": \"\"\n      }\n    },\n    {\n      \"column\": \"tendencia_fechamento\",\n      \"properties\": {\n        \"dtype\": \"number\",\n        \"std\": 1.1547005383792515,\n        \"min\": -1.0,\n        \"max\": 1.0,\n        \"num_unique_values\": 2,\n        \"samples\": [\n          1.0,\n          -1.0\n        ],\n        \"semantic_type\": \"\",\n        \"description\": \"\"\n      }\n    },\n    {\n      \"column\": \"ultimo\",\n      \"properties\": {\n        \"dtype\": \"number\",\n        \"std\": 1.2452049228942166,\n        \"min\": 101.006,\n        \"max\": 103.922,\n        \"num_unique_values\": 5,\n        \"samples\": [\n          103.514,\n          102.719\n        ],\n        \"semantic_type\": \"\",\n        \"description\": \"\"\n      }\n    }\n  ]\n}"
            }
          },
          "metadata": {},
          "execution_count": 30
        }
      ]
    },
    {
      "cell_type": "code",
      "source": [
        "# Removendo a primeira linha (não apresenta nenhuma tendência, valor inválido)\n",
        "df.dropna(subset=['tendencia_fechamento'], inplace=True)"
      ],
      "metadata": {
        "id": "dsnpr1KIJQ8E"
      },
      "execution_count": 31,
      "outputs": []
    },
    {
      "cell_type": "code",
      "source": [
        "df[['tendencia_fechamento', 'ultimo']].head()"
      ],
      "metadata": {
        "colab": {
          "base_uri": "https://localhost:8080/",
          "height": 238
        },
        "id": "eeRtXHJeJeec",
        "outputId": "1c595dc9-c468-4c6b-f26a-7ad4a56a1dab"
      },
      "execution_count": 32,
      "outputs": [
        {
          "output_type": "execute_result",
          "data": {
            "text/plain": [
              "            tendencia_fechamento   ultimo\n",
              "data                                     \n",
              "2022-01-04                  -1.0  103.514\n",
              "2022-01-05                  -1.0  101.006\n",
              "2022-01-06                   1.0  101.561\n",
              "2022-01-07                   1.0  102.719\n",
              "2022-01-10                  -1.0  101.945"
            ],
            "text/html": [
              "\n",
              "  <div id=\"df-431c6086-cd9a-48e8-82ff-775199369d2d\" class=\"colab-df-container\">\n",
              "    <div>\n",
              "<style scoped>\n",
              "    .dataframe tbody tr th:only-of-type {\n",
              "        vertical-align: middle;\n",
              "    }\n",
              "\n",
              "    .dataframe tbody tr th {\n",
              "        vertical-align: top;\n",
              "    }\n",
              "\n",
              "    .dataframe thead th {\n",
              "        text-align: right;\n",
              "    }\n",
              "</style>\n",
              "<table border=\"1\" class=\"dataframe\">\n",
              "  <thead>\n",
              "    <tr style=\"text-align: right;\">\n",
              "      <th></th>\n",
              "      <th>tendencia_fechamento</th>\n",
              "      <th>ultimo</th>\n",
              "    </tr>\n",
              "    <tr>\n",
              "      <th>data</th>\n",
              "      <th></th>\n",
              "      <th></th>\n",
              "    </tr>\n",
              "  </thead>\n",
              "  <tbody>\n",
              "    <tr>\n",
              "      <th>2022-01-04</th>\n",
              "      <td>-1.0</td>\n",
              "      <td>103.514</td>\n",
              "    </tr>\n",
              "    <tr>\n",
              "      <th>2022-01-05</th>\n",
              "      <td>-1.0</td>\n",
              "      <td>101.006</td>\n",
              "    </tr>\n",
              "    <tr>\n",
              "      <th>2022-01-06</th>\n",
              "      <td>1.0</td>\n",
              "      <td>101.561</td>\n",
              "    </tr>\n",
              "    <tr>\n",
              "      <th>2022-01-07</th>\n",
              "      <td>1.0</td>\n",
              "      <td>102.719</td>\n",
              "    </tr>\n",
              "    <tr>\n",
              "      <th>2022-01-10</th>\n",
              "      <td>-1.0</td>\n",
              "      <td>101.945</td>\n",
              "    </tr>\n",
              "  </tbody>\n",
              "</table>\n",
              "</div>\n",
              "    <div class=\"colab-df-buttons\">\n",
              "\n",
              "  <div class=\"colab-df-container\">\n",
              "    <button class=\"colab-df-convert\" onclick=\"convertToInteractive('df-431c6086-cd9a-48e8-82ff-775199369d2d')\"\n",
              "            title=\"Convert this dataframe to an interactive table.\"\n",
              "            style=\"display:none;\">\n",
              "\n",
              "  <svg xmlns=\"http://www.w3.org/2000/svg\" height=\"24px\" viewBox=\"0 -960 960 960\">\n",
              "    <path d=\"M120-120v-720h720v720H120Zm60-500h600v-160H180v160Zm220 220h160v-160H400v160Zm0 220h160v-160H400v160ZM180-400h160v-160H180v160Zm440 0h160v-160H620v160ZM180-180h160v-160H180v160Zm440 0h160v-160H620v160Z\"/>\n",
              "  </svg>\n",
              "    </button>\n",
              "\n",
              "  <style>\n",
              "    .colab-df-container {\n",
              "      display:flex;\n",
              "      gap: 12px;\n",
              "    }\n",
              "\n",
              "    .colab-df-convert {\n",
              "      background-color: #E8F0FE;\n",
              "      border: none;\n",
              "      border-radius: 50%;\n",
              "      cursor: pointer;\n",
              "      display: none;\n",
              "      fill: #1967D2;\n",
              "      height: 32px;\n",
              "      padding: 0 0 0 0;\n",
              "      width: 32px;\n",
              "    }\n",
              "\n",
              "    .colab-df-convert:hover {\n",
              "      background-color: #E2EBFA;\n",
              "      box-shadow: 0px 1px 2px rgba(60, 64, 67, 0.3), 0px 1px 3px 1px rgba(60, 64, 67, 0.15);\n",
              "      fill: #174EA6;\n",
              "    }\n",
              "\n",
              "    .colab-df-buttons div {\n",
              "      margin-bottom: 4px;\n",
              "    }\n",
              "\n",
              "    [theme=dark] .colab-df-convert {\n",
              "      background-color: #3B4455;\n",
              "      fill: #D2E3FC;\n",
              "    }\n",
              "\n",
              "    [theme=dark] .colab-df-convert:hover {\n",
              "      background-color: #434B5C;\n",
              "      box-shadow: 0px 1px 3px 1px rgba(0, 0, 0, 0.15);\n",
              "      filter: drop-shadow(0px 1px 2px rgba(0, 0, 0, 0.3));\n",
              "      fill: #FFFFFF;\n",
              "    }\n",
              "  </style>\n",
              "\n",
              "    <script>\n",
              "      const buttonEl =\n",
              "        document.querySelector('#df-431c6086-cd9a-48e8-82ff-775199369d2d button.colab-df-convert');\n",
              "      buttonEl.style.display =\n",
              "        google.colab.kernel.accessAllowed ? 'block' : 'none';\n",
              "\n",
              "      async function convertToInteractive(key) {\n",
              "        const element = document.querySelector('#df-431c6086-cd9a-48e8-82ff-775199369d2d');\n",
              "        const dataTable =\n",
              "          await google.colab.kernel.invokeFunction('convertToInteractive',\n",
              "                                                    [key], {});\n",
              "        if (!dataTable) return;\n",
              "\n",
              "        const docLinkHtml = 'Like what you see? Visit the ' +\n",
              "          '<a target=\"_blank\" href=https://colab.research.google.com/notebooks/data_table.ipynb>data table notebook</a>'\n",
              "          + ' to learn more about interactive tables.';\n",
              "        element.innerHTML = '';\n",
              "        dataTable['output_type'] = 'display_data';\n",
              "        await google.colab.output.renderOutput(dataTable, element);\n",
              "        const docLink = document.createElement('div');\n",
              "        docLink.innerHTML = docLinkHtml;\n",
              "        element.appendChild(docLink);\n",
              "      }\n",
              "    </script>\n",
              "  </div>\n",
              "\n",
              "\n",
              "    <div id=\"df-f235bf66-9138-4cfd-b6d9-d5413ba196ed\">\n",
              "      <button class=\"colab-df-quickchart\" onclick=\"quickchart('df-f235bf66-9138-4cfd-b6d9-d5413ba196ed')\"\n",
              "                title=\"Suggest charts\"\n",
              "                style=\"display:none;\">\n",
              "\n",
              "<svg xmlns=\"http://www.w3.org/2000/svg\" height=\"24px\"viewBox=\"0 0 24 24\"\n",
              "     width=\"24px\">\n",
              "    <g>\n",
              "        <path d=\"M19 3H5c-1.1 0-2 .9-2 2v14c0 1.1.9 2 2 2h14c1.1 0 2-.9 2-2V5c0-1.1-.9-2-2-2zM9 17H7v-7h2v7zm4 0h-2V7h2v10zm4 0h-2v-4h2v4z\"/>\n",
              "    </g>\n",
              "</svg>\n",
              "      </button>\n",
              "\n",
              "<style>\n",
              "  .colab-df-quickchart {\n",
              "      --bg-color: #E8F0FE;\n",
              "      --fill-color: #1967D2;\n",
              "      --hover-bg-color: #E2EBFA;\n",
              "      --hover-fill-color: #174EA6;\n",
              "      --disabled-fill-color: #AAA;\n",
              "      --disabled-bg-color: #DDD;\n",
              "  }\n",
              "\n",
              "  [theme=dark] .colab-df-quickchart {\n",
              "      --bg-color: #3B4455;\n",
              "      --fill-color: #D2E3FC;\n",
              "      --hover-bg-color: #434B5C;\n",
              "      --hover-fill-color: #FFFFFF;\n",
              "      --disabled-bg-color: #3B4455;\n",
              "      --disabled-fill-color: #666;\n",
              "  }\n",
              "\n",
              "  .colab-df-quickchart {\n",
              "    background-color: var(--bg-color);\n",
              "    border: none;\n",
              "    border-radius: 50%;\n",
              "    cursor: pointer;\n",
              "    display: none;\n",
              "    fill: var(--fill-color);\n",
              "    height: 32px;\n",
              "    padding: 0;\n",
              "    width: 32px;\n",
              "  }\n",
              "\n",
              "  .colab-df-quickchart:hover {\n",
              "    background-color: var(--hover-bg-color);\n",
              "    box-shadow: 0 1px 2px rgba(60, 64, 67, 0.3), 0 1px 3px 1px rgba(60, 64, 67, 0.15);\n",
              "    fill: var(--button-hover-fill-color);\n",
              "  }\n",
              "\n",
              "  .colab-df-quickchart-complete:disabled,\n",
              "  .colab-df-quickchart-complete:disabled:hover {\n",
              "    background-color: var(--disabled-bg-color);\n",
              "    fill: var(--disabled-fill-color);\n",
              "    box-shadow: none;\n",
              "  }\n",
              "\n",
              "  .colab-df-spinner {\n",
              "    border: 2px solid var(--fill-color);\n",
              "    border-color: transparent;\n",
              "    border-bottom-color: var(--fill-color);\n",
              "    animation:\n",
              "      spin 1s steps(1) infinite;\n",
              "  }\n",
              "\n",
              "  @keyframes spin {\n",
              "    0% {\n",
              "      border-color: transparent;\n",
              "      border-bottom-color: var(--fill-color);\n",
              "      border-left-color: var(--fill-color);\n",
              "    }\n",
              "    20% {\n",
              "      border-color: transparent;\n",
              "      border-left-color: var(--fill-color);\n",
              "      border-top-color: var(--fill-color);\n",
              "    }\n",
              "    30% {\n",
              "      border-color: transparent;\n",
              "      border-left-color: var(--fill-color);\n",
              "      border-top-color: var(--fill-color);\n",
              "      border-right-color: var(--fill-color);\n",
              "    }\n",
              "    40% {\n",
              "      border-color: transparent;\n",
              "      border-right-color: var(--fill-color);\n",
              "      border-top-color: var(--fill-color);\n",
              "    }\n",
              "    60% {\n",
              "      border-color: transparent;\n",
              "      border-right-color: var(--fill-color);\n",
              "    }\n",
              "    80% {\n",
              "      border-color: transparent;\n",
              "      border-right-color: var(--fill-color);\n",
              "      border-bottom-color: var(--fill-color);\n",
              "    }\n",
              "    90% {\n",
              "      border-color: transparent;\n",
              "      border-bottom-color: var(--fill-color);\n",
              "    }\n",
              "  }\n",
              "</style>\n",
              "\n",
              "      <script>\n",
              "        async function quickchart(key) {\n",
              "          const quickchartButtonEl =\n",
              "            document.querySelector('#' + key + ' button');\n",
              "          quickchartButtonEl.disabled = true;  // To prevent multiple clicks.\n",
              "          quickchartButtonEl.classList.add('colab-df-spinner');\n",
              "          try {\n",
              "            const charts = await google.colab.kernel.invokeFunction(\n",
              "                'suggestCharts', [key], {});\n",
              "          } catch (error) {\n",
              "            console.error('Error during call to suggestCharts:', error);\n",
              "          }\n",
              "          quickchartButtonEl.classList.remove('colab-df-spinner');\n",
              "          quickchartButtonEl.classList.add('colab-df-quickchart-complete');\n",
              "        }\n",
              "        (() => {\n",
              "          let quickchartButtonEl =\n",
              "            document.querySelector('#df-f235bf66-9138-4cfd-b6d9-d5413ba196ed button');\n",
              "          quickchartButtonEl.style.display =\n",
              "            google.colab.kernel.accessAllowed ? 'block' : 'none';\n",
              "        })();\n",
              "      </script>\n",
              "    </div>\n",
              "\n",
              "    </div>\n",
              "  </div>\n"
            ],
            "application/vnd.google.colaboratory.intrinsic+json": {
              "type": "dataframe",
              "summary": "{\n  \"name\": \"df[['tendencia_fechamento', 'ultimo']]\",\n  \"rows\": 5,\n  \"fields\": [\n    {\n      \"column\": \"data\",\n      \"properties\": {\n        \"dtype\": \"date\",\n        \"min\": \"2022-01-04 00:00:00\",\n        \"max\": \"2022-01-10 00:00:00\",\n        \"num_unique_values\": 5,\n        \"samples\": [\n          \"2022-01-05 00:00:00\",\n          \"2022-01-10 00:00:00\",\n          \"2022-01-06 00:00:00\"\n        ],\n        \"semantic_type\": \"\",\n        \"description\": \"\"\n      }\n    },\n    {\n      \"column\": \"tendencia_fechamento\",\n      \"properties\": {\n        \"dtype\": \"number\",\n        \"std\": 1.0954451150103324,\n        \"min\": -1.0,\n        \"max\": 1.0,\n        \"num_unique_values\": 2,\n        \"samples\": [\n          1.0,\n          -1.0\n        ],\n        \"semantic_type\": \"\",\n        \"description\": \"\"\n      }\n    },\n    {\n      \"column\": \"ultimo\",\n      \"properties\": {\n        \"dtype\": \"number\",\n        \"std\": 0.9851312095350517,\n        \"min\": 101.006,\n        \"max\": 103.514,\n        \"num_unique_values\": 5,\n        \"samples\": [\n          101.006,\n          101.945\n        ],\n        \"semantic_type\": \"\",\n        \"description\": \"\"\n      }\n    }\n  ]\n}"
            }
          },
          "metadata": {},
          "execution_count": 32
        }
      ]
    },
    {
      "cell_type": "markdown",
      "metadata": {
        "id": "4sXZeeCzc3E_"
      },
      "source": [
        "### **Paulo:** Estruturação do Projeto e Pipeline Inicial\n",
        "**Objetivos** = Montar a arquitetura do projeto e criar um pipeline de pré-processamento que evite vazamento de dados (data leakage)"
      ]
    },
    {
      "cell_type": "markdown",
      "metadata": {
        "id": "s1blJJ5bdCo5"
      },
      "source": [
        "#### **Tarefa 1:** Criar a estrutura do repositório no GitHub"
      ]
    },
    {
      "cell_type": "markdown",
      "source": [
        "[Repositório Github](https://github.com/paulocdvieira/FIAP_PosTech_DA_F2_TechChallenge_G2/blob/main/Tech_Challenge_2.ipynb)"
      ],
      "metadata": {
        "id": "-GHj4EKJ5K7E"
      }
    },
    {
      "cell_type": "markdown",
      "metadata": {
        "id": "l2kJb3vkdHn_"
      },
      "source": [
        "#### **Tarefa 2:** Revisar a documentação sobre Pipeline do Scikit-Learn e Validação Cruzada"
      ]
    },
    {
      "cell_type": "markdown",
      "source": [
        "[Scikit-learn: Pipeline](https://scikit-learn.org/stable/modules/generated/sklearn.pipeline.Pipeline.html)"
      ],
      "metadata": {
        "id": "aeCvnZ0N5uG5"
      }
    },
    {
      "cell_type": "markdown",
      "source": [
        "[Scikit-learn: Cross Validation](https://scikit-learn.org/stable/modules/cross_validation.html)"
      ],
      "metadata": {
        "id": "Ok113djy6C4Y"
      }
    },
    {
      "cell_type": "markdown",
      "metadata": {
        "id": "pBWyzEvmdNjw"
      },
      "source": [
        "#### **Tarefa 3:** Dividir os dados em conjuntos de treino e teste (últimos 30 dias para teste)"
      ]
    },
    {
      "cell_type": "code",
      "source": [
        "# Define data limite para os últimos 30 dias\n",
        "data_limite = df.index.max() - pd.Timedelta(days=30)\n",
        "\n",
        "#Divide dados em treino e teste\n",
        "df_treino = df[df.index <= data_limite]\n",
        "df_teste = df[df.index > data_limite]\n",
        "\n",
        "# Imprime tamanho dos dfs\n",
        "print(f'treino: {df_treino.shape[0]} linhas')\n",
        "print(f'teste: {df_teste.shape[0]} linhas')"
      ],
      "metadata": {
        "colab": {
          "base_uri": "https://localhost:8080/"
        },
        "id": "Ss1bNuwMte4H",
        "outputId": "d0f1fb6f-4c70-4742-f94c-de4bca785cf9"
      },
      "execution_count": 41,
      "outputs": [
        {
          "output_type": "stream",
          "name": "stdout",
          "text": [
            "treino: 914 linhas\n",
            "teste: 22 linhas\n"
          ]
        }
      ]
    },
    {
      "cell_type": "markdown",
      "metadata": {
        "id": "KE7FAGELdUBA"
      },
      "source": [
        "#### **Tarefa 4:** Desenvolver um script inicial para o pipeline de pré-processamento, incluindo o escalonamento de dados (StandardScaler ou MinMaxScaler)"
      ]
    },
    {
      "cell_type": "code",
      "source": [
        "from sklearn.preprocessing import StandardScaler, MinMaxScaler"
      ],
      "metadata": {
        "id": "uNpIXuJlrwhu"
      },
      "execution_count": 37,
      "outputs": []
    },
    {
      "cell_type": "code",
      "source": [
        "# Selecionar colunas numéricas para escalonamento\n",
        "colunas_numericas = df.columns.tolist()\n",
        "colunas_numericas"
      ],
      "metadata": {
        "colab": {
          "base_uri": "https://localhost:8080/"
        },
        "id": "6RiJ9KInrxex",
        "outputId": "f816c93c-769d-4149-8c71-b7289444d943"
      },
      "execution_count": 44,
      "outputs": [
        {
          "output_type": "execute_result",
          "data": {
            "text/plain": [
              "['ultimo', 'abertura', 'max', 'min', 'volume', 'var', 'tendencia_fechamento']"
            ]
          },
          "metadata": {},
          "execution_count": 44
        }
      ]
    },
    {
      "cell_type": "code",
      "source": [
        "# Escolher o tipo de escalonador\n",
        "\n",
        "scaler = MinMaxScaler()  # Alternativa: use StandardScaler() se preferir normalização padrão"
      ],
      "metadata": {
        "id": "Xzx9fKxj0JVs"
      },
      "execution_count": 45,
      "outputs": []
    },
    {
      "cell_type": "code",
      "source": [
        "# Ajustar o scaler com os dados de treino e transformar ambos\n",
        "X_treino = scaler.fit_transform(df_treino[colunas_numericas])\n",
        "X_teste = scaler.transform(df_teste[colunas_numericas])\n",
        "\n",
        "# Converter de volta para DataFrame com os mesmos índices e colunas\n",
        "df_treino_scaled = pd.DataFrame(X_treino, index=df_treino.index, columns=colunas_numericas)\n",
        "df_teste_scaled = pd.DataFrame(X_teste, index=df_teste.index, columns=colunas_numericas)\n",
        "\n",
        "# Visualizar resultado\n",
        "print(\"Treino escalonado:\")\n",
        "print(df_treino_scaled.head())\n",
        "\n",
        "print(\"\\nTeste escalonado:\")\n",
        "print(df_teste_scaled.head())"
      ],
      "metadata": {
        "colab": {
          "base_uri": "https://localhost:8080/"
        },
        "id": "wiEyBszA0LOz",
        "outputId": "88e23fb1-1e3d-4185-8c2a-85b59c15a6a4"
      },
      "execution_count": 46,
      "outputs": [
        {
          "output_type": "stream",
          "name": "stdout",
          "text": [
            "Treino escalonado:\n",
            "              ultimo  abertura       max       min    volume       var  \\\n",
            "data                                                                     \n",
            "2022-01-04  0.163197  0.172839  0.160875  0.171189  0.000288  0.332958   \n",
            "2022-01-05  0.107834  0.163802  0.144094  0.122078  0.000344  0.104612   \n",
            "2022-01-06  0.120086  0.108249  0.115927  0.125358  0.000298  0.438695   \n",
            "2022-01-07  0.145648  0.120542  0.126586  0.127632  0.000298  0.505062   \n",
            "2022-01-10  0.128562  0.146192  0.126586  0.126189  0.000238  0.292463   \n",
            "\n",
            "            tendencia_fechamento  \n",
            "data                              \n",
            "2022-01-04                   0.0  \n",
            "2022-01-05                   0.0  \n",
            "2022-01-06                   1.0  \n",
            "2022-01-07                   1.0  \n",
            "2022-01-10                   0.0  \n",
            "\n",
            "Teste escalonado:\n",
            "              ultimo  abertura       max       min    volume       var  \\\n",
            "data                                                                     \n",
            "2025-09-01  0.996932  1.003500  0.990552  0.997332  0.198896  0.365579   \n",
            "2025-09-02  0.976005  1.000310  0.975775  0.969934  0.353325  0.301462   \n",
            "2025-09-03  0.965608  0.979334  0.958532  0.968994  0.304664  0.338583   \n",
            "2025-09-04  0.990530  0.968259  0.980246  0.974460  0.322761  0.467942   \n",
            "2025-09-05  1.026887  0.994197  1.022683  1.000066  0.336837  0.508436   \n",
            "\n",
            "            tendencia_fechamento  \n",
            "data                              \n",
            "2025-09-01                   0.0  \n",
            "2025-09-02                   0.0  \n",
            "2025-09-03                   0.0  \n",
            "2025-09-04                   1.0  \n",
            "2025-09-05                   1.0  \n"
          ]
        }
      ]
    },
    {
      "cell_type": "markdown",
      "metadata": {
        "id": "ONzttMl5dc1l"
      },
      "source": [
        "## Semana 2 (06/10 - 12/10): Engenharia de Atributos e Modelagem Inicial"
      ]
    },
    {
      "cell_type": "markdown",
      "metadata": {
        "id": "RRWhXAJ9djF2"
      },
      "source": [
        "### **Pedro:** Engenharia de Atributos\n",
        "**Objetivos** - Aumentar o poder preditivo do dataset com atributos relevantes"
      ]
    },
    {
      "cell_type": "markdown",
      "metadata": {
        "id": "gEFXNNT-dsGR"
      },
      "source": [
        "#### **Tarefa 1:** Criar features de médias móveis (curta, média e longa) para capturar tendências"
      ]
    },
    {
      "cell_type": "markdown",
      "metadata": {
        "id": "AhzJSAB1dx-1"
      },
      "source": [
        "#### **Tarefa 2:** Desenvolver *features lagged* (valores de fechamento e volume de dias anteriores) para tratar a natureza sequencial dos dados"
      ]
    },
    {
      "cell_type": "markdown",
      "metadata": {
        "id": "iSd1sAAyd6Vs"
      },
      "source": [
        "#### **Tarefa 3:** Calcular indicadores técnicos simples (ex.: variação percentual diária)"
      ]
    },
    {
      "cell_type": "markdown",
      "metadata": {
        "id": "KakW2qPod_e6"
      },
      "source": [
        "#### **Tarefa 4:** Analisar a correlação entre as novas features e a variável alvo"
      ]
    },
    {
      "cell_type": "markdown",
      "metadata": {
        "id": "dQMU8pJceFd3"
      },
      "source": [
        "### **Leticia:** Modelagem e Treinamento (Modelo baseado em Árvores)\n",
        "**Objetivos** - Construir e validar os primeiros modelos de classificação"
      ]
    },
    {
      "cell_type": "markdown",
      "metadata": {
        "id": "8-7joCF7eb0F"
      },
      "source": [
        "#### **Tarefa 1:** Integrar as novas features ao pipeline de pré-processamento"
      ]
    },
    {
      "cell_type": "markdown",
      "metadata": {
        "id": "Z5aUElZSel8Z"
      },
      "source": [
        "#### **Tarefa 2:** Treinar e validar um modelo de Árvore de Decisão como baseline"
      ]
    },
    {
      "cell_type": "markdown",
      "metadata": {
        "id": "1BI4gkgzesZZ"
      },
      "source": [
        "#### **Tarefa 3:** Treinar a avaliar um modelo de Random Forest"
      ]
    },
    {
      "cell_type": "markdown",
      "metadata": {
        "id": "9mC_wF2_e9b7"
      },
      "source": [
        "#### **Tarefa 4:** Aplicar Validação Cruzada (K-Fold) para garantir a robustez dos resultados"
      ]
    },
    {
      "cell_type": "markdown",
      "metadata": {
        "id": "zJ8XDMgLfEbR"
      },
      "source": [
        "### **Paulo:** Modelagem e Treinamento (Outros Classificadores)\n",
        "**Objetivos** - Testar diferentes abordagens de classificação para comparar o desempenho"
      ]
    },
    {
      "cell_type": "markdown",
      "metadata": {
        "id": "Hmu5pg9tfPCV"
      },
      "source": [
        "#### **Tarefa 1:** Treinar e avaliar um modelo KNN (K-Nearest Neighbors)"
      ]
    },
    {
      "cell_type": "markdown",
      "metadata": {
        "id": "q2qh43EMfTfQ"
      },
      "source": [
        "#### **Tarefa 2:** Treinar e avaliar um modelo SVM (Support Vector Machine)"
      ]
    },
    {
      "cell_type": "markdown",
      "metadata": {
        "id": "6smsKptvfXtt"
      },
      "source": [
        "#### **Tarefa 3:** Começar a documentar os resultados e métricas iniciais (Acurácia, Matriz de Confusão) de todos os modelos testados"
      ]
    },
    {
      "cell_type": "markdown",
      "metadata": {
        "id": "q0RUUjMDfgEe"
      },
      "source": [
        "## Semana 3 (13/10 - 21/10): Otimização, Avaliação Final e Documentação"
      ]
    },
    {
      "cell_type": "markdown",
      "metadata": {
        "id": "Mz0nBwF-flv0"
      },
      "source": [
        "### **Pedro:** Otimização de Hiperparâmetros e Análise de Métricas\n",
        "**Objetivos** - Refinar o melhor modelo e realizar uma análise aprofundada de suas métricas de desempenho"
      ]
    },
    {
      "cell_type": "markdown",
      "metadata": {
        "id": "JsCZsYC7fwrK"
      },
      "source": [
        "#### **Tarefa 1:** Utilizar \"GridSearchCV\" para encontrar a melhor combinação de hiperparâmetros para o modelo de melhor desempenho"
      ]
    },
    {
      "cell_type": "markdown",
      "metadata": {
        "id": "NLdoU3a3f4za"
      },
      "source": [
        "#### **Tarefa 2:** Com o modelo otimizado, gerar o \"Classification Report\" para analisar Precisão, Recall e F1-Score"
      ]
    },
    {
      "cell_type": "markdown",
      "metadata": {
        "id": "xeHku1zrf-po"
      },
      "source": [
        "#### **Tarefa 3:** Plotar a Curva ROC e calcular a AUC para avaliar o poder de discriminação do modelo final"
      ]
    },
    {
      "cell_type": "markdown",
      "metadata": {
        "id": "rBJPwmS1gFFn"
      },
      "source": [
        "### **Paulo:** Elaboração do Storytelling e Justificativa Técnica\n",
        "**Objetivos** - Construir a narrativa técnica do projeto e preparar o conteúdo para os entregáveis escritos"
      ]
    },
    {
      "cell_type": "markdown",
      "metadata": {
        "id": "5m3DxzeZgOjO"
      },
      "source": [
        "#### **Tarefa 1:** Estruturar e redigir a apresentação do storytelling, cobrindo desde a aquisição dos dados até a análise dos resultados"
      ]
    },
    {
      "cell_type": "markdown",
      "metadata": {
        "id": "I76thwejgcg-"
      },
      "source": [
        "#### **Tarefa 2:** Escrever a justificativa técnica, explicando a escolha do modelo e como a natureza sequencial dos dados foi tratada"
      ]
    },
    {
      "cell_type": "markdown",
      "metadata": {
        "id": "qTK3ZqjcgjM2"
      },
      "source": [
        "#### **Tarefa 3:** Detalhar os trade-offs entre acuracidade e overfitting"
      ]
    },
    {
      "cell_type": "markdown",
      "metadata": {
        "id": "sme1gx0Agmoh"
      },
      "source": [
        "### **Leticia:** Consolidação do Código e Preparação dos Entregáveis\n",
        "**Objetivos** - Finalziar todos os componentes técnicos e de apresentação para a entrega"
      ]
    },
    {
      "cell_type": "markdown",
      "metadata": {
        "id": "D9vKYkBagyzp"
      },
      "source": [
        "#### **Tarefa 1:** Reunir, organizar e comentar o código final, garantindo sua reprodutibilidade"
      ]
    },
    {
      "cell_type": "markdown",
      "metadata": {
        "id": "VDwk2WGpg3vX"
      },
      "source": [
        "#### **Tarefa 2:** Finalizar o design e a coesão da apresentação em PPT/PDF"
      ]
    },
    {
      "cell_type": "markdown",
      "metadata": {
        "id": "6SWcL_iyg-KA"
      },
      "source": [
        "#### **Tarefa 3:** Roteirizar o vídeo de apresentação de 5 minutos, definindo a fala de cada membro"
      ]
    },
    {
      "cell_type": "markdown",
      "metadata": {
        "id": "GjxIZs85hD3N"
      },
      "source": [
        "#### **Tarefa 4:** Deixar todos os artefatos prontos para a revisão final na semana seguinte"
      ]
    },
    {
      "cell_type": "markdown",
      "metadata": {
        "id": "C0BgkVPUhKJj"
      },
      "source": [
        "## Semana de Revisão (22/10 a 28/10)"
      ]
    },
    {
      "cell_type": "markdown",
      "metadata": {
        "id": "4eBsRgIxhTiu"
      },
      "source": [
        "* **Testes Finais:** Executar o pipeline completo uma última vez e garantir que não há erros\n",
        "* **Revisão do Código:** Fazer uma revisão cruzada do código em busca de melhorias de clareza e comentários\n",
        "* **Gravação do Relatório e Apresentação:** Revisar o storytelling para garantir que a comunicação está clara, objetiva e alinhada aos requisitos do projeto\n",
        "* **Gravação e Edição do Vídeo:** Gravar a apresentação, garantindo que todos os membros participem e que o vídeo final tenha no máximo 5 minutos\n",
        "* **Empacotamento Final:** Prepara a pasta .zip ou organizar o repositório GitHub para a submissão final no dia 28/10"
      ]
    },
    {
      "cell_type": "markdown",
      "metadata": {
        "id": "ZK-o1YHqJPY_"
      },
      "source": [
        "### **Execução do Projeto**"
      ]
    },
    {
      "cell_type": "markdown",
      "metadata": {
        "id": "AqDXWt6kJk5V"
      },
      "source": [
        "## Preparação dos Dados"
      ]
    },
    {
      "cell_type": "code",
      "execution_count": 32,
      "metadata": {
        "id": "ieTj-CfCQQHZ"
      },
      "outputs": [],
      "source": []
    }
  ],
  "metadata": {
    "colab": {
      "provenance": [],
      "include_colab_link": true
    },
    "kernelspec": {
      "display_name": "Python 3",
      "name": "python3"
    },
    "language_info": {
      "name": "python"
    }
  },
  "nbformat": 4,
  "nbformat_minor": 0
}